{
 "cells": [
  {
   "cell_type": "code",
   "execution_count": 3,
   "metadata": {},
   "outputs": [],
   "source": [
    "import pandas as pd "
   ]
  },
  {
   "cell_type": "code",
   "execution_count": 4,
   "metadata": {},
   "outputs": [],
   "source": [
    "import matplotlib.pyplot as plt\n",
    "import numpy as np\n",
    "import seaborn as sns\n",
    "from numpy.random import default_rng\n",
    "import os \n",
    "\n",
    "from functions_data import binarise_using_average, binarise_using_max, import_data, shuffle_data"
   ]
  },
  {
   "cell_type": "code",
   "execution_count": 5,
   "metadata": {},
   "outputs": [
    {
     "name": "stderr",
     "output_type": "stream",
     "text": [
      "/Users/anastasijailic/Library/Mobile Documents/com~apple~CloudDocs/Master/functions_data.py:11: DtypeWarning: Columns (1,2,3,4,5,6,7,8,9,10,11,12,13,14,15,16,17,18,19,20,21,22,23,24,25) have mixed types. Specify dtype option on import or set low_memory=False.\n",
      "  data = pd.read_csv(datafile)\n"
     ]
    },
    {
     "name": "stdout",
     "output_type": "stream",
     "text": [
      "Question difficulty model without shuffled columns accuracy:  69.50143633482891  standard deviation:  0.07223069066192668 binarisation method  max\n"
     ]
    }
   ],
   "source": [
    "def question_difficulty_model(non_binarised_data, questions_info, binarisation_method, shuffle):\n",
    "\n",
    "    if shuffle:\n",
    "        non_binarised_data = shuffle_data(non_binarised_data)  # shuffle columns of the dataset\n",
    "\n",
    "    if binarisation_method == 'average':\n",
    "        data = binarise_using_average(non_binarised_data)\n",
    "    if binarisation_method == 'max':\n",
    "        data = binarise_using_max(non_binarised_data, questions_info)\n",
    "\n",
    "    students_separation_point = 22511\n",
    "    questions_separation_point = 12\n",
    "    question_labels = data.columns\n",
    "\n",
    "    test = data[question_labels[questions_separation_point:]][students_separation_point:]\n",
    "    train = data[question_labels[questions_separation_point:]][:students_separation_point]\n",
    "    test.reset_index(inplace=True, drop=True)\n",
    "    train.reset_index(inplace=True, drop=True)\n",
    "    \n",
    "    p = train.sum(axis=0) / train.shape[0]\n",
    "\n",
    "    correctness = []\n",
    "    for seed_number in range(100):\n",
    "        rng = default_rng(seed=seed_number)\n",
    "        correct = 0\n",
    "        for col in test:\n",
    "            pred = rng.binomial(1, p[col], test.shape[0])\n",
    "            correct += np.count_nonzero(pred == test[col])\n",
    "        correctness.append(correct / test.size * 100)\n",
    "\n",
    "    acc, std = np.mean(correctness), np.std(correctness)\n",
    "\n",
    "    # plt.figure(0)\n",
    "    # plt.hist(p, bins=13)\n",
    "    # plt.title('Histogram of question parameter')\n",
    "    # save_path = os.path.join(os.getcwd(), 'figures', 'hist_quest_param_max_shuffled.png')\n",
    "    # plt.savefig(save_path)\n",
    "\n",
    "    # plt.figure(1)\n",
    "    # plt.bar(test.columns, height=p)\n",
    "    # plt.title('Bar plot of question parameter')\n",
    "    # save_path = os.path.join(os.getcwd(), 'figures', 'barplot_quest_param_max_shuffled.png')\n",
    "    # plt.savefig(save_path)\n",
    "\n",
    "    return acc, std\n",
    "\n",
    "\n",
    "def student_ability_model(non_binarised_data, questions_info, binarisation_method, shuffle):\n",
    "\n",
    "    if shuffle:\n",
    "        non_binarised_data = shuffle_data(non_binarised_data, 1000)  # shuffle columns of the dataset\n",
    "\n",
    "    if binarisation_method == 'average':\n",
    "        data = binarise_using_average(non_binarised_data)\n",
    "    if binarisation_method == 'max':\n",
    "        data = binarise_using_max(non_binarised_data, questions_info)\n",
    "\n",
    "    students_separation_point = 22511\n",
    "    questions_separation_point = 12\n",
    "    question_labels = data.columns\n",
    "\n",
    "    test = data[question_labels[questions_separation_point:]][\n",
    "           students_separation_point:]  # test set will be 13 questions\n",
    "    train = data[question_labels[:questions_separation_point]][students_separation_point:]\n",
    "    test.reset_index(inplace=True, drop=True)\n",
    "    train.reset_index(inplace=True, drop=True)\n",
    "\n",
    "    p = train.sum(axis=1) / train.shape[1]\n",
    "\n",
    "    correctness = []\n",
    "    for seed_number in range(10):\n",
    "        correct = 0\n",
    "        rng = default_rng(seed=seed_number)\n",
    "        for index, student in test.iterrows():\n",
    "            pred = rng.binomial(1, p[index], test.shape[1])\n",
    "            correct += np.count_nonzero(pred == student)\n",
    "        correctness.append(correct / test.size * 100)\n",
    "\n",
    "    acc = np.mean(correctness)\n",
    "    std = np.std(correctness)\n",
    "\n",
    "    # plt.figure(0)\n",
    "    # plt.hist(p, bins=13)\n",
    "    # plt.title('Histogram of student parameter')\n",
    "    # plt.savefig('C:/Users/Anastasija/Desktop/FYP Personalised Education/figures/hist_student_param_max_shuffled.png')\n",
    "\n",
    "    # plt.figure(1)\n",
    "    # plt.bar(range(test.shape[0]), height=p)\n",
    "    # plt.title('Bar plot of student parameter')\n",
    "    # plt.savefig('C:/Users/Anastasija/Desktop/FYP Personalised Education/figures/barplot_student_param_max_shuffled.png')\n",
    "\n",
    "    return acc, std\n",
    "\n",
    "\n",
    "def corr_matrix_questions(data, save_location):\n",
    "    corr = data.corr()\n",
    "    fig, ax = plt.subplots(figsize=(16, 16))\n",
    "    sns.heatmap(data.corr(), annot=True, fmt=\".2f\", ax=ax, xticklabels=corr.columns.values,\n",
    "                yticklabels=corr.columns.values)\n",
    "    plt.savefig(save_location)\n",
    "    plt.show()\n",
    "\n",
    "\n",
    "def zeros_ones_data(data, questions_info):\n",
    "    binarised_using_avg = binarise_using_average(data)\n",
    "    binarised_using_max = binarise_using_max(data, questions_info)\n",
    "\n",
    "    bin_avg_frac = binarised_using_avg.values.sum() / binarised_using_avg.size * 100\n",
    "    bin_max_frac = binarised_using_max.values.sum() / binarised_using_max.size * 100\n",
    "\n",
    "    print('Fraction of ones in the dataset binarised using average of the question score is ',\n",
    "          \"{0:0.2f}\".format(bin_avg_frac), \"%\")\n",
    "    print('Fraction of ones in the dataset binarised using max possible question score is ',\n",
    "          \"{0:0.2f}\".format(bin_max_frac), \"%\")\n",
    "\n",
    "\n",
    "def run_model(data, questions_info, model, binarisation_method, shuffle):\n",
    "\n",
    "    if model == 'question_difficulty':\n",
    "        acc, std = question_difficulty_model(data, questions_info, binarisation_method, shuffle)\n",
    "        if shuffle:\n",
    "            print('Question difficulty model with shuffled columns accuracy: ', acc, ' standard deviation: ', std,\n",
    "                  'binarisation method ', binarisation_method)\n",
    "        else:\n",
    "            print('Question difficulty model without shuffled columns accuracy: ', acc, ' standard deviation: ', std,\n",
    "                  'binarisation method ', binarisation_method)\n",
    "\n",
    "    if model == 'student_ability':\n",
    "        acc, std = student_ability_model(data, questions_info, binarisation_method=binarisation_method, shuffle=shuffle)\n",
    "        if shuffle:\n",
    "            print('Student ability model with shuffled columns accuracy: ', acc, ' standard deviation: ', std,\n",
    "                  'binarisation method ', binarisation_method)\n",
    "        else:\n",
    "            print('Student ability model without shuffled columns accuracy: ', acc, ' standard deviation: ', std,\n",
    "                  'binarisation method ', binarisation_method)\n",
    "\n",
    "data_file = os.path.join(os.getcwd(), 'data', '9to1_2017_GCSE_1H.csv')\n",
    "df, q_info = import_data(data_file)\n",
    "\n",
    "model_ = 'question_difficulty'\n",
    "shuffle_ = False\n",
    "binarisation_method_ = 'max'\n",
    "run_model(df, q_info, model_, binarisation_method_, shuffle_)\n",
    "\n",
    "# accs = []\n",
    "# sep_points = np.arange(100, 22511, 100)\n",
    "# for sep_point in sep_points:\n",
    "#     acc = run_model(df, q_info, model_, binarisation_method_, shuffle_, sep_point)\n",
    "#     accs.append(acc)\n",
    "#     print(sep_point)\n",
    "# plt.plot(sep_points, accs)\n",
    "# plt.xlabel('Number of students in the training set')\n",
    "# plt.ylabel('Accuracy of the question-difficulty model')\n",
    "# plt.show()\n"
   ]
  },
  {
   "cell_type": "code",
   "execution_count": 15,
   "metadata": {},
   "outputs": [
    {
     "name": "stdout",
     "output_type": "stream",
     "text": [
      "       q16   q5  q12  q13  q10   q9  q14  q22   q2   q1   q8  q20\n",
      "22511  0.0  0.0  0.0  0.0  0.0  0.0  0.0  0.0  0.0  0.0  0.0  0.0\n",
      "22512  0.0  0.0  0.0  0.0  0.0  0.0  0.0  0.0  0.0  0.0  0.0  0.0\n",
      "22513  0.0  0.0  0.0  0.0  0.0  0.0  0.0  0.0  0.0  0.0  0.0  0.0\n",
      "22514  0.0  0.0  0.0  0.0  0.0  0.0  0.0  0.0  0.0  0.0  0.0  0.0\n",
      "22515  0.0  0.0  0.0  0.0  0.0  0.0  0.0  0.0  1.0  1.0  1.0  0.0\n",
      "...    ...  ...  ...  ...  ...  ...  ...  ...  ...  ...  ...  ...\n",
      "45017  0.0  1.0  0.0  0.0  0.0  0.0  1.0  0.0  1.0  1.0  1.0  0.0\n",
      "45018  0.0  0.0  0.0  0.0  1.0  0.0  0.0  0.0  1.0  1.0  0.0  0.0\n",
      "45019  1.0  1.0  0.0  1.0  0.0  1.0  1.0  0.0  1.0  1.0  1.0  0.0\n",
      "45020  0.0  0.0  0.0  0.0  0.0  1.0  1.0  0.0  1.0  1.0  1.0  0.0\n",
      "45021  0.0  0.0  0.0  1.0  1.0  0.0  0.0  0.0  1.0  1.0  0.0  0.0\n",
      "\n",
      "[22511 rows x 12 columns]        q16   q5  q12  q13  q10   q9  q14  q22   q2   q1   q8  q20\n",
      "0      0.0  1.0  1.0  0.0  1.0  1.0  1.0  0.0  1.0  1.0  1.0  0.0\n",
      "1      0.0  0.0  0.0  1.0  1.0  0.0  1.0  0.0  1.0  1.0  0.0  0.0\n",
      "2      0.0  0.0  1.0  0.0  1.0  1.0  1.0  0.0  0.0  1.0  0.0  0.0\n",
      "3      0.0  1.0  1.0  0.0  1.0  1.0  1.0  0.0  1.0  1.0  0.0  0.0\n",
      "4      0.0  1.0  1.0  0.0  1.0  1.0  0.0  0.0  1.0  1.0  0.0  1.0\n",
      "...    ...  ...  ...  ...  ...  ...  ...  ...  ...  ...  ...  ...\n",
      "22506  0.0  0.0  0.0  0.0  0.0  0.0  0.0  0.0  1.0  1.0  0.0  0.0\n",
      "22507  0.0  1.0  0.0  0.0  0.0  0.0  0.0  0.0  1.0  1.0  0.0  0.0\n",
      "22508  0.0  0.0  0.0  0.0  0.0  0.0  0.0  0.0  1.0  0.0  0.0  0.0\n",
      "22509  0.0  0.0  0.0  0.0  0.0  0.0  0.0  0.0  0.0  1.0  0.0  0.0\n",
      "22510  0.0  0.0  0.0  0.0  0.0  0.0  0.0  0.0  0.0  0.0  0.0  0.0\n",
      "\n",
      "[22511 rows x 12 columns]\n"
     ]
    },
    {
     "name": "stderr",
     "output_type": "stream",
     "text": [
      "/Users/anastasijailic/Library/Mobile Documents/com~apple~CloudDocs/Master/functions_data.py:11: DtypeWarning: Columns (1,2,3,4,5,6,7,8,9,10,11,12,13,14,15,16,17,18,19,20,21,22,23,24,25) have mixed types. Specify dtype option on import or set low_memory=False.\n",
      "  data = pd.read_csv(datafile)\n"
     ]
    }
   ],
   "source": [
    "model = 'question_difficulty'\n",
    "shuffle = True \n",
    "binarisation_method = 'max'\n",
    "\n",
    "data_file = os.path.join(os.getcwd(), 'data', '9to1_2017_GCSE_1H.csv')\n",
    "df, q_info = import_data(data_file)\n",
    "\n",
    "non_binarised_data = df \n",
    "\n",
    "if shuffle:\n",
    "    non_binarised_data = shuffle_data(non_binarised_data)  # shuffle columns of the dataset\n",
    "\n",
    "if binarisation_method == 'average':\n",
    "    data = binarise_using_average(non_binarised_data)\n",
    "if binarisation_method == 'max':\n",
    "    data = binarise_using_max(non_binarised_data, q_info)\n",
    "\n",
    "students_separation_point = 22511\n",
    "questions_separation_point = 12\n",
    "question_labels = data.columns\n",
    "\n",
    "\n",
    "test = data[question_labels[questions_separation_point:]][students_separation_point:]\n",
    "train = data[question_labels[questions_separation_point:]][:students_separation_point]\n",
    "print(test, train)\n",
    "test.reset_index(inplace=True, drop=True)\n",
    "train.reset_index(inplace=True, drop=True)\n",
    "\n",
    "p = train.sum(axis=0) / train.shape[0]\n",
    "\n",
    "ones = 0 \n",
    "correctness = []\n",
    "seed_number = 1000\n",
    "rng = default_rng(seed=seed_number)\n",
    "correct = 0\n",
    "for col in test:\n",
    "    pred = rng.binomial(1, p[col], test.shape[0])\n",
    "    ones += pred.sum()\n",
    "    correct += np.count_nonzero(pred == test[col])\n",
    "correctness.append(correct / test.size * 100)\n",
    "\n",
    "acc, std = np.mean(correctness), np.std(correctness)\n",
    "\n"
   ]
  },
  {
   "cell_type": "code",
   "execution_count": 13,
   "metadata": {},
   "outputs": [
    {
     "name": "stdout",
     "output_type": "stream",
     "text": [
      "(22511, 12)\n",
      "(22511, 12)\n"
     ]
    }
   ],
   "source": [
    "print(test.shape)\n",
    "print(train.shape)"
   ]
  },
  {
   "cell_type": "code",
   "execution_count": 14,
   "metadata": {},
   "outputs": [
    {
     "name": "stdout",
     "output_type": "stream",
     "text": [
      "       q16   q5  q12  q13  q10   q9  q14  q22   q2   q1   q8  q20\n",
      "0      0.0  1.0  1.0  0.0  1.0  1.0  1.0  0.0  1.0  1.0  1.0  0.0\n",
      "1      0.0  0.0  0.0  1.0  1.0  0.0  1.0  0.0  1.0  1.0  0.0  0.0\n",
      "2      0.0  0.0  1.0  0.0  1.0  1.0  1.0  0.0  0.0  1.0  0.0  0.0\n",
      "3      0.0  1.0  1.0  0.0  1.0  1.0  1.0  0.0  1.0  1.0  0.0  0.0\n",
      "4      0.0  1.0  1.0  0.0  1.0  1.0  0.0  0.0  1.0  1.0  0.0  1.0\n",
      "...    ...  ...  ...  ...  ...  ...  ...  ...  ...  ...  ...  ...\n",
      "22506  0.0  0.0  0.0  0.0  0.0  0.0  0.0  0.0  1.0  1.0  0.0  0.0\n",
      "22507  0.0  1.0  0.0  0.0  0.0  0.0  0.0  0.0  1.0  1.0  0.0  0.0\n",
      "22508  0.0  0.0  0.0  0.0  0.0  0.0  0.0  0.0  1.0  0.0  0.0  0.0\n",
      "22509  0.0  0.0  0.0  0.0  0.0  0.0  0.0  0.0  0.0  1.0  0.0  0.0\n",
      "22510  0.0  0.0  0.0  0.0  0.0  0.0  0.0  0.0  0.0  0.0  0.0  0.0\n",
      "\n",
      "[22511 rows x 12 columns]\n",
      "       q16   q5  q12  q13  q10   q9  q14  q22   q2   q1   q8  q20\n",
      "0      0.0  0.0  0.0  0.0  0.0  0.0  0.0  0.0  0.0  0.0  0.0  0.0\n",
      "1      0.0  0.0  0.0  0.0  0.0  0.0  0.0  0.0  0.0  0.0  0.0  0.0\n",
      "2      0.0  0.0  0.0  0.0  0.0  0.0  0.0  0.0  0.0  0.0  0.0  0.0\n",
      "3      0.0  0.0  0.0  0.0  0.0  0.0  0.0  0.0  0.0  0.0  0.0  0.0\n",
      "4      0.0  0.0  0.0  0.0  0.0  0.0  0.0  0.0  1.0  1.0  1.0  0.0\n",
      "...    ...  ...  ...  ...  ...  ...  ...  ...  ...  ...  ...  ...\n",
      "22506  0.0  1.0  0.0  0.0  0.0  0.0  1.0  0.0  1.0  1.0  1.0  0.0\n",
      "22507  0.0  0.0  0.0  0.0  1.0  0.0  0.0  0.0  1.0  1.0  0.0  0.0\n",
      "22508  1.0  1.0  0.0  1.0  0.0  1.0  1.0  0.0  1.0  1.0  1.0  0.0\n",
      "22509  0.0  0.0  0.0  0.0  0.0  1.0  1.0  0.0  1.0  1.0  1.0  0.0\n",
      "22510  0.0  0.0  0.0  1.0  1.0  0.0  0.0  0.0  1.0  1.0  0.0  0.0\n",
      "\n",
      "[22511 rows x 12 columns]\n"
     ]
    }
   ],
   "source": [
    "print(train)\n",
    "print(test)"
   ]
  },
  {
   "cell_type": "code",
   "execution_count": 46,
   "metadata": {},
   "outputs": [
    {
     "data": {
      "image/png": "[encoded data removed]",
      "text/plain": [
       "<Figure size 432x288 with 1 Axes>"
      ]
     },
     "metadata": {
      "needs_background": "light"
     },
     "output_type": "display_data"
    },
    {
     "name": "stdout",
     "output_type": "stream",
     "text": [
      "108738\n",
      "62.696755660195755\n"
     ]
    }
   ],
   "source": [
    "test_zeros = test.shape[0]*test.shape[1] - int(test.sum().sum())\n",
    "test_ones = int(test.sum().sum())\n",
    "\n",
    "predicted_zeros = test.shape[0]*test.shape[1] - ones\n",
    "predicted_ones  = ones\n",
    "x = [test_zeros, predicted_zeros, test_ones, predicted_ones]\n",
    "\n",
    "plt.bar(['0\\'s test', '0\\'s pred', '1\\'s test', '1\\'s pred'], height=x,color=['lightgreen','lightcoral','lightgreen','lightcoral'])\n",
    "plt.title('Question-difficulty model', fontsize = 14)\n",
    "plt.ylabel('number of data points', fontsize=14)\n",
    "plt.ticklabel_format(axis = 'y', style='sci', scilimits=(0,0))\n",
    "plt.yticks(fontsize=14)\n",
    "plt.xticks(fontsize=14)\n",
    "plt.show()\n",
    "print(ones)\n",
    "print(acc)"
   ]
  },
  {
   "cell_type": "code",
   "execution_count": 57,
   "metadata": {},
   "outputs": [
    {
     "name": "stderr",
     "output_type": "stream",
     "text": [
      "/Users/anastasijailic/Library/Mobile Documents/com~apple~CloudDocs/Master/functions_data.py:11: DtypeWarning: Columns (1,2,3,4,5,6,7,8,9,10,11,12,13,14,15,16,17,18,19,20,21,22,23,24,25) have mixed types. Specify dtype option on import or set low_memory=False.\n",
      "  data = pd.read_csv(datafile)\n"
     ]
    }
   ],
   "source": [
    "model = 'student_ability'\n",
    "shuffle = True \n",
    "binarisation_method = 'max'\n",
    "\n",
    "data_file = os.path.join(os.getcwd(), 'data', '9to1_2017_GCSE_1H.csv')\n",
    "df, q_info = import_data(data_file)\n",
    "\n",
    "non_binarised_data = df \n",
    "\n",
    "if shuffle:\n",
    "    non_binarised_data = shuffle_data(non_binarised_data)  # shuffle columns of the dataset\n",
    "\n",
    "if binarisation_method == 'average':\n",
    "    data = binarise_using_average(non_binarised_data)\n",
    "if binarisation_method == 'max':\n",
    "    data = binarise_using_max(non_binarised_data, q_info)\n",
    "\n",
    "students_separation_point = 22511\n",
    "questions_separation_point = 12\n",
    "question_labels = data.columns\n",
    "\n",
    "test = data[question_labels[questions_separation_point:]][students_separation_point:]\n",
    "train = data[question_labels[questions_separation_point:]][:students_separation_point]\n",
    "test.reset_index(inplace=True, drop=True)\n",
    "train.reset_index(inplace=True, drop=True)\n",
    "\n",
    "p = train.sum(axis=1) / train.shape[1]\n",
    "\n",
    "seed_number = 1000 \n",
    "\n",
    "correctness = []\n",
    "correct = 0\n",
    "ones = 0\n",
    "rng = default_rng(seed=seed_number)\n",
    "for index, student in test.iterrows():\n",
    "    pred = rng.binomial(1, p[index], test.shape[1])\n",
    "    ones += pred.sum()\n",
    "    correct += np.count_nonzero(pred == student)\n",
    "correctness.append(correct / test.size * 100)\n",
    "\n",
    "acc = np.mean(correctness)\n",
    "std = np.std(correctness)\n"
   ]
  },
  {
   "cell_type": "code",
   "execution_count": 58,
   "metadata": {},
   "outputs": [
    {
     "name": "stdout",
     "output_type": "stream",
     "text": [
      "51.077621311062735\n"
     ]
    }
   ],
   "source": [
    "print(acc)"
   ]
  },
  {
   "cell_type": "code",
   "execution_count": 38,
   "metadata": {},
   "outputs": [
    {
     "data": {
      "image/png": "[encoded data removed]",
      "text/plain": [
       "<Figure size 432x288 with 1 Axes>"
      ]
     },
     "metadata": {
      "needs_background": "light"
     },
     "output_type": "display_data"
    }
   ],
   "source": [
    "test_zeros = test.shape[0]*test.shape[1] - int(test.sum().sum())\n",
    "test_ones = int(test.sum().sum())\n",
    "\n",
    "predicted_zeros = test.shape[0]*test.shape[1] - ones\n",
    "predicted_ones  = ones\n",
    "x = [test_zeros, predicted_zeros, test_ones, predicted_ones]\n",
    "\n",
    "plt.bar(['0\\'s test', '0\\'s pred', '1\\'s test', '1\\'s pred'], height=x,color=['lightgreen','lightcoral','lightgreen','lightcoral'])\n",
    "plt.title('Student-ability model', fontsize = 14)\n",
    "plt.ylabel('number of data points', fontsize=14)\n",
    "plt.ticklabel_format(axis = 'y', style='sci', scilimits=(0,0))\n",
    "plt.yticks(fontsize=14)\n",
    "plt.xticks(fontsize=14)\n",
    "plt.show()"
   ]
  },
  {
   "cell_type": "code",
   "execution_count": 42,
   "metadata": {},
   "outputs": [
    {
     "name": "stdout",
     "output_type": "stream",
     "text": [
      "62.696755660195755\n"
     ]
    }
   ],
   "source": [
    "print(acc)"
   ]
  },
  {
   "cell_type": "code",
   "execution_count": null,
   "metadata": {},
   "outputs": [],
   "source": []
  }
 ],
 "metadata": {
  "interpreter": {
   "hash": "aee8b7b246df8f9039afb4144a1f6fd8d2ca17a180786b69acc140d282b71a49"
  },
  "kernelspec": {
   "display_name": "Python 3.10.4 64-bit",
   "language": "python",
   "name": "python3"
  },
  "language_info": {
   "codemirror_mode": {
    "name": "ipython",
    "version": 3
   },
   "file_extension": ".py",
   "mimetype": "text/x-python",
   "name": "python",
   "nbconvert_exporter": "python",
   "pygments_lexer": "ipython3",
   "version": "3.10.4"
  },
  "orig_nbformat": 4
 },
 "nbformat": 4,
 "nbformat_minor": 2
}
