{
 "cells": [
  {
   "cell_type": "code",
   "execution_count": 35,
   "metadata": {},
   "outputs": [
    {
     "name": "stdout",
     "output_type": "stream",
     "text": [
      "Accuracy on the testing pool before the training is 0.5689747333526611\n"
     ]
    }
   ],
   "source": [
    "import torch \n",
    "import os \n",
    "from functions_data import load_data_and_dictionary, convert_dataframe_to_triples\n",
    "import functions_ordinal\n",
    "import numpy as np \n",
    "from scipy.stats import entropy\n",
    "import pandas as pd \n",
    "from torch import optim\n",
    "import matplotlib.pyplot as plt \n",
    "\n",
    "data_path = os.path.join(os.getcwd(), 'data', 'three_exams_cleaned.csv')\n",
    "dict_path = os.path.join(os.getcwd(), 'data', 'questions_info_dict.p')\n",
    "data, questions_info = load_data_and_dictionary(data_path, dict_path)\n",
    "\n",
    "n_students, n_questions = data.shape[0], data.shape[1]\n",
    "\n",
    "# if the score is higher than max score for the given question, put score = max_score \n",
    "for col in data:\n",
    "    m = questions_info[col]['Max']\n",
    "    data[col].loc[data[col] > m] = m\n",
    "\n",
    "# rename keys in the questions_info \n",
    "new_dictionary, columns_mapper = {}, {}\n",
    "dict_keys = questions_info.keys()\n",
    "for ind, key_old in enumerate(dict_keys):\n",
    "    key_new = 'q' + str(ind + 1)\n",
    "    new_dictionary[key_new] = questions_info[key_old]\n",
    "    columns_mapper[key_old] = key_new \n",
    "\n",
    "# rename column in the dataframe\n",
    "data = data.rename(columns=columns_mapper)\n",
    "max_score = int(data.values.max())\n",
    "\n",
    "\n",
    "# separate training and pooling students \n",
    "training_students = 13563\n",
    "pooling_students = data.shape[0] - training_students\n",
    "training_dataframe = data[:training_students]\n",
    "pooling_dataframe = data[training_students:]\n",
    "\n",
    "\n",
    "# in the pooling dataframe separate learning and testing data frame\n",
    "def shuffle_data(raw_data, shuffle_seed=1000):\n",
    "    df = raw_data.sample(frac=1, axis=1, random_state=np.random.RandomState(shuffle_seed))\n",
    "    return df\n",
    "shuffled_pooling_dataframe = shuffle_data(pooling_dataframe)\n",
    "questions = list(shuffled_pooling_dataframe.columns)\n",
    "learning_questions = questions[:50]\n",
    "testing_questions = questions[50:]\n",
    "learning_pool_df = shuffled_pooling_dataframe[learning_questions]\n",
    "testing_pool_df = shuffled_pooling_dataframe[testing_questions]\n",
    "learning_pool = convert_dataframe_to_triples(learning_pool_df)\n",
    "testing_pool = convert_dataframe_to_triples(testing_pool_df)\n",
    "\n",
    "\n",
    "#load pretrained parameters \n",
    "bs_pretrained = torch.load(os.path.join(os.getcwd(), 'al_params', 'bs_pretrained.pth'))\n",
    "bq0_pretrained = torch.load(os.path.join(os.getcwd(), 'al_params', 'bq0_pretrained.pth'))\n",
    "rho_pretrained = torch.load(os.path.join(os.getcwd(), 'al_params', 'rho_pretrained.pth'))\n",
    "\n",
    "\n",
    "# ACTIVE LEARNING \n",
    "s_lp = learning_pool_df.shape[0] # number of students in the learning pool\n",
    "q_lp = learning_pool_df.shape[1] # number of questions in the learning pool \n",
    "\n",
    "torch.manual_seed(1000)\n",
    "bs_pool = torch.randn(s_lp, requires_grad=True)\n",
    "bq0_pool = bq0_pretrained\n",
    "rho_pool = rho_pretrained\n",
    "\n",
    "active_learning_iterations = q_lp # in every iteration a single question to each student is revealed \n",
    "\n",
    "# predictions on the testing pool before the training \n",
    "testing_pool_max_scores = functions_ordinal.generate_max_scores_tensor(testing_pool, new_dictionary)\n",
    "learning_pool_max_scores = functions_ordinal.generate_max_scores_tensor(learning_pool, new_dictionary)\n",
    "\n",
    "prob_matrix = functions_ordinal.generate_prob_matrix(testing_pool, bs_pool, bq0_pool, rho_pool, max_score, testing_pool_max_scores)\n",
    "predicted_scores = prob_matrix.argmax(axis = 1)\n",
    "true_scores = testing_pool[:, 2]\n",
    "\n",
    "initial_accuracy = functions_ordinal.full_accuracy(true_scores, predicted_scores)\n",
    "print(f'Accuracy on the testing pool before the training is {initial_accuracy}')"
   ]
  },
  {
   "cell_type": "code",
   "execution_count": 36,
   "metadata": {},
   "outputs": [],
   "source": [
    "# functions for revealing the data for training \n",
    "\n",
    "def entropy_reveal_one_question_per_student(params, labelled, unlabelled):\n",
    "    bs_pool, bq0_pool, rho_pool = params[0], params[1], params[2]\n",
    "    labelled_pool, labelled_max_scores = labelled[0], labelled[1]\n",
    "    unlabelled_pool, unlabelled_max_scores = unlabelled[0], unlabelled[1]\n",
    "    \n",
    "    prob_matrix = functions_ordinal.generate_prob_matrix(unlabelled_pool, bs_pool, bq0_pool, rho_pool, max_score, unlabelled_max_scores).detach()\n",
    "    prob_matrix_entropy = entropy(prob_matrix, axis=1)\n",
    "    df = pd.DataFrame(unlabelled_pool.numpy(), columns = ['studentID', 'questionID', 'score'])\n",
    "    df['entropy'] = prob_matrix_entropy\n",
    "    df['max_scores'] = unlabelled_max_scores.numpy()\n",
    "    idx = df.groupby(['studentID'])['entropy'].transform(max) == df['entropy']\n",
    "    df['max'] = idx \n",
    "\n",
    "    # handle the data that remains in the learning pool as unlabeled data \n",
    "    unlabelled_pool = df.loc[df['max'] == False][['studentID', 'questionID', 'score']]\n",
    "    unlabelled_pool = torch.tensor(unlabelled_pool.values)\n",
    "\n",
    "    unlabelled_max_scores = df.loc[df['max'] == False][['max_scores']]\n",
    "    unlabelled_max_scores = torch.tensor(unlabelled_max_scores.values.squeeze(1))\n",
    "\n",
    "    # handle the data that is being revealed to the training and becomes labeled data \n",
    "    addition_labelled_pool = df.loc[df['max'] == True][['studentID', 'questionID', 'score']]\n",
    "    addition_labelled_pool = torch.tensor(addition_labelled_pool.values)\n",
    "\n",
    "    addition_labelled_max_scores = df.loc[df['max'] == True][['max_scores']]\n",
    "    addition_labelled_max_scores = torch.tensor(addition_labelled_max_scores.values)\n",
    "    # append newly labelled data to the pool \n",
    "    labelled_pool = torch.cat((labelled_pool, addition_labelled_pool))\n",
    "    labelled_max_scores = torch.cat((labelled_max_scores, addition_labelled_max_scores.squeeze(1)))\n",
    "\n",
    "    # pack them back together \n",
    "    labelled = [labelled_pool, labelled_max_scores]\n",
    "    unlabelled = [unlabelled_pool, unlabelled_max_scores]\n",
    "    \n",
    "    return labelled, unlabelled\n",
    "\n",
    "def random_reveal_questions_per_student(labelled, unlabelled, questions_per_student, random_seed):\n",
    "    labelled_pool, labelled_max_scores = labelled[0], labelled[1]\n",
    "    unlabelled_pool, unlabelled_max_scores = unlabelled[0], unlabelled[1]\n",
    "\n",
    "    df = pd.DataFrame(unlabelled_pool.numpy(), columns = ['studentID', 'questionID', 'score'])\n",
    "    df['max_scores'] = unlabelled_max_scores.numpy()\n",
    "    df = pd.DataFrame(unlabelled_pool.numpy(), columns = ['studentID', 'questionID', 'score'])\n",
    "    df['max_scores'] = unlabelled_max_scores.numpy()\n",
    "    indices = df.groupby('studentID').sample(n=questions_per_student, random_state=random_seed).index.values\n",
    "\n",
    "    to_label = df.index.isin(indices)\n",
    "\n",
    "    addition_labelled = df[to_label]\n",
    "    addition_labelled_pool = torch.tensor(addition_labelled[['studentID', 'questionID', 'score']].values)\n",
    "    addition_labelled_max_scores = torch.tensor(addition_labelled[['max_scores']].values)\n",
    "    labelled_pool = torch.cat((labelled_pool, addition_labelled_pool))\n",
    "    labelled_max_scores = torch.cat((labelled_max_scores, addition_labelled_max_scores.squeeze(1)))\n",
    "\n",
    "\n",
    "    unlabelled = df[~to_label]\n",
    "    unlabelled_pool = torch.tensor(unlabelled[['studentID', 'questionID', 'score']].values)\n",
    "    unlabelled_max_scores = torch.tensor(unlabelled[['max_scores']].values)\n",
    "\n",
    "    # pack them back together \n",
    "    labelled = [labelled_pool, labelled_max_scores]\n",
    "    unlabelled = [unlabelled_pool, unlabelled_max_scores]\n",
    "    \n",
    "    return labelled, unlabelled\n",
    "\n",
    "\n",
    "def retrain_parameters(labelled_data, labelled_data_max_scores, params, max_score, loss_, it):\n",
    "    # I think it was not enough training done with 100 iterations later down the line - use more iterations for all 1000 eg. but this number is very prone to experiments \n",
    "    # if it < 10:\n",
    "    #     iterations = 1000 \n",
    "    # else: \n",
    "    #     iterations = 400\n",
    "    iterations = 200\n",
    "    opt = optim.SGD(params, lr = 0.0001)\n",
    "    \n",
    "    for iter in range(iterations):\n",
    "        loss = functions_ordinal.nll(labelled_data, params, max_score, labelled_data_max_scores)\n",
    "        opt.zero_grad()\n",
    "        loss.backward()\n",
    "        opt.step()\n",
    "        loss_.append(loss/labelled_data.shape[0])\n",
    "    \n",
    "    return params, loss_\n",
    "\n"
   ]
  },
  {
   "cell_type": "markdown",
   "metadata": {},
   "source": [
    "## Entropy pooling "
   ]
  },
  {
   "cell_type": "code",
   "execution_count": 39,
   "metadata": {},
   "outputs": [
    {
     "name": "stdout",
     "output_type": "stream",
     "text": [
      "Initial accuracy on the testing pool is 0.5689747333526611\n"
     ]
    }
   ],
   "source": [
    "#load pretrained parameters \n",
    "bs_pretrained = torch.load(os.path.join(os.getcwd(), 'al_params', 'bs_pretrained.pth'))\n",
    "bq0_pretrained = torch.load(os.path.join(os.getcwd(), 'al_params', 'bq0_pretrained.pth'))\n",
    "rho_pretrained = torch.load(os.path.join(os.getcwd(), 'al_params', 'rho_pretrained.pth'))\n",
    "\n",
    "torch.manual_seed(1000)\n",
    "bs_pool = torch.randn(s_lp, requires_grad=True)\n",
    "bq0_pool = bq0_pretrained\n",
    "rho_pool = rho_pretrained\n",
    "\n",
    "# pre-requisites for AL \n",
    "\n",
    "s_lp = learning_pool_df.shape[0] # number of students in the learning pool\n",
    "q_lp = learning_pool_df.shape[1] # number of questions in the learning pool \n",
    "\n",
    "# separate labelled and unlabelled data; for beginning labelled data is none data and unlabelled data is all data in the learning pool \n",
    "labelled_pool = torch.tensor([])\n",
    "unlabelled_pool = learning_pool.clone()\n",
    "\n",
    "labelled_max_scores = torch.tensor([])\n",
    "unlabelled_max_scores = learning_pool_max_scores.clone()\n",
    "\n",
    "prob_matrix = functions_ordinal.generate_prob_matrix(testing_pool, bs_pool, bq0_pool, rho_pool, max_score, testing_pool_max_scores)\n",
    "predicted_scores = prob_matrix.argmax(axis = 1)\n",
    "true_scores = testing_pool[:, 2]\n",
    "\n",
    "initial_accuracy = functions_ordinal.full_accuracy(true_scores, predicted_scores).numpy()\n",
    "print(f'Initial accuracy on the testing pool is {initial_accuracy}')"
   ]
  },
  {
   "cell_type": "code",
   "execution_count": 40,
   "metadata": {},
   "outputs": [
    {
     "name": "stdout",
     "output_type": "stream",
     "text": [
      "I will be training now for 25 iterations\n",
      "0\n",
      "10\n",
      "20\n"
     ]
    }
   ],
   "source": [
    "# Entropy based active learning training \n",
    "loss_ = []\n",
    "accs_entropy = [initial_accuracy]\n",
    "\n",
    "random_Seed = 1000 \n",
    "questions_per_student = 2\n",
    "iterations = int(q_lp / questions_per_student) # number of retraining iterations based on how many questions are revealed to each student in every iteration\n",
    "params = [bs_pool, bq0_pool, rho_pool]\n",
    "labelled = [labelled_pool, labelled_max_scores]\n",
    "unlabelled = [unlabelled_pool, unlabelled_max_scores]\n",
    "\n",
    "print(f'I will be training now for {iterations} iterations')\n",
    "\n",
    "for it in range(iterations):\n",
    "    labelled, unlabelled = entropy_reveal_one_question_per_student(params, labelled, unlabelled)\n",
    "    labelled, unlabelled = entropy_reveal_one_question_per_student(params, labelled, unlabelled)\n",
    "    labelled_data, labelled_data_max_scores = labelled[0], labelled[1]\n",
    "\n",
    "    params, loss_ = retrain_parameters(labelled_data, labelled_data_max_scores, params, max_score, loss_, it)\n",
    "\n",
    "    prob_matrix = functions_ordinal.generate_prob_matrix(testing_pool, bs_pool, bq0_pool, rho_pool, max_score, testing_pool_max_scores)\n",
    "    predicted_scores, true_scores = prob_matrix.argmax(axis = 1), testing_pool[:, 2]\n",
    "    accs_entropy.append(functions_ordinal.full_accuracy(true_scores, predicted_scores).numpy())\n",
    "    \n",
    "    if it % 10 == 0:\n",
    "        print(it)"
   ]
  },
  {
   "cell_type": "code",
   "execution_count": 41,
   "metadata": {},
   "outputs": [
    {
     "data": {
      "text/plain": [
       "[<matplotlib.lines.Line2D at 0x2d9d01090>]"
      ]
     },
     "execution_count": 41,
     "metadata": {},
     "output_type": "execute_result"
    },
    {
     "data": {
      "image/png": "[encoded data removed]",
      "text/plain": [
       "<Figure size 504x360 with 1 Axes>"
      ]
     },
     "metadata": {
      "needs_background": "light"
     },
     "output_type": "display_data"
    }
   ],
   "source": [
    "loss_entropy = []\n",
    "for l in loss_:\n",
    "    loss_entropy.append(l.detach().numpy())\n",
    "plt.plot(loss_entropy)"
   ]
  },
  {
   "cell_type": "code",
   "execution_count": 42,
   "metadata": {},
   "outputs": [],
   "source": [
    "bs_entropy = bs_pool.clone()\n",
    "bq0_entropy = bq0_pool.clone()\n",
    "rho_entropy = rho_pool.clone()"
   ]
  },
  {
   "cell_type": "markdown",
   "metadata": {},
   "source": [
    "##  Random pooling "
   ]
  },
  {
   "cell_type": "code",
   "execution_count": 43,
   "metadata": {},
   "outputs": [
    {
     "name": "stdout",
     "output_type": "stream",
     "text": [
      "Initial accuracy on the testing pool is 0.5689747333526611\n"
     ]
    }
   ],
   "source": [
    "#load pretrained parameters \n",
    "bs_pretrained = torch.load(os.path.join(os.getcwd(), 'al_params', 'bs_pretrained.pth'))\n",
    "bq0_pretrained = torch.load(os.path.join(os.getcwd(), 'al_params', 'bq0_pretrained.pth'))\n",
    "rho_pretrained = torch.load(os.path.join(os.getcwd(), 'al_params', 'rho_pretrained.pth'))\n",
    "\n",
    "torch.manual_seed(1000)\n",
    "bs_pool = torch.randn(s_lp, requires_grad=True)\n",
    "bq0_pool = bq0_pretrained\n",
    "rho_pool = rho_pretrained\n",
    "\n",
    "# pre-requisites for AL \n",
    "\n",
    "s_lp = learning_pool_df.shape[0] # number of students in the learning pool\n",
    "q_lp = learning_pool_df.shape[1] # number of questions in the learning pool \n",
    "\n",
    "# separate labelled and unlabelled data; for beginning labelled data is none data and unlabelled data is all data in the learning pool \n",
    "labelled_pool = torch.tensor([])\n",
    "unlabelled_pool = learning_pool.clone()\n",
    "\n",
    "labelled_max_scores = torch.tensor([])\n",
    "unlabelled_max_scores = learning_pool_max_scores.clone()\n",
    "\n",
    "prob_matrix = functions_ordinal.generate_prob_matrix(testing_pool, bs_pool, bq0_pool, rho_pool, max_score, testing_pool_max_scores)\n",
    "predicted_scores = prob_matrix.argmax(axis = 1)\n",
    "true_scores = testing_pool[:, 2]\n",
    "\n",
    "initial_accuracy = functions_ordinal.full_accuracy(true_scores, predicted_scores).numpy()\n",
    "print(f'Initial accuracy on the testing pool is {initial_accuracy}')"
   ]
  },
  {
   "cell_type": "code",
   "execution_count": 44,
   "metadata": {},
   "outputs": [
    {
     "name": "stdout",
     "output_type": "stream",
     "text": [
      "I will be training now for 25\n",
      "0\n",
      "10\n",
      "20\n"
     ]
    }
   ],
   "source": [
    "# Random selection of a question per student revealed \n",
    "loss_random = []\n",
    "accs_random = [initial_accuracy]\n",
    "\n",
    "random_seed = 1000 \n",
    "questions_per_student = 2\n",
    "iterations = int(q_lp / questions_per_student) # number of retraining iterations based on how many questions are revealed to each student in every iteration\n",
    "params = [bs_pool, bq0_pool, rho_pool]\n",
    "labelled = [labelled_pool, labelled_max_scores]\n",
    "unlabelled = [unlabelled_pool, unlabelled_max_scores]\n",
    "\n",
    "print(f'I will be training now for {iterations}')\n",
    "\n",
    "for it in range(iterations):\n",
    "    labelled, unlabelled = random_reveal_questions_per_student(labelled, unlabelled, questions_per_student, random_seed)\n",
    "    labelled_data, labelled_data_max_scores = labelled[0], labelled[1]\n",
    "\n",
    "    params, loss_random = retrain_parameters(labelled_data, labelled_data_max_scores, params, max_score, loss_random, it)\n",
    "\n",
    "    prob_matrix = functions_ordinal.generate_prob_matrix(testing_pool, bs_pool, bq0_pool, rho_pool, max_score, testing_pool_max_scores)\n",
    "    predicted_scores, true_scores = prob_matrix.argmax(axis = 1), testing_pool[:, 2]\n",
    "    accs_random.append(functions_ordinal.full_accuracy(true_scores, predicted_scores).numpy())\n",
    "    \n",
    "    if it % 10 == 0:\n",
    "        print(it)"
   ]
  },
  {
   "cell_type": "code",
   "execution_count": 45,
   "metadata": {},
   "outputs": [],
   "source": [
    "bs_random = bs_pool.clone()\n",
    "bq0_random = bq0_pool.clone()\n",
    "rho_random = rho_pool.clone()"
   ]
  },
  {
   "cell_type": "code",
   "execution_count": 46,
   "metadata": {},
   "outputs": [],
   "source": [
    "loss_r = []\n",
    "for l in loss_random:\n",
    "    loss_r.append(l.detach().numpy())"
   ]
  },
  {
   "cell_type": "markdown",
   "metadata": {},
   "source": [
    "## Plotting for entropy and random pooling "
   ]
  },
  {
   "cell_type": "code",
   "execution_count": 47,
   "metadata": {},
   "outputs": [
    {
     "data": {
      "image/png": "[encoded data removed]",
      "text/plain": [
       "<Figure size 504x360 with 1 Axes>"
      ]
     },
     "metadata": {
      "needs_background": "light"
     },
     "output_type": "display_data"
    }
   ],
   "source": [
    "# Random question selection training \n",
    "plt.rcParams[\"figure.figsize\"] = (7,5)\n",
    "plt.plot(accs_entropy, label = 'entropy', color = 'r')\n",
    "plt.plot(accs_random, label='random', color = 'g')\n",
    "plt.legend(fontsize = 14)\n",
    "plt.xlabel('number of questions revealed per student', fontsize = 15)\n",
    "plt.ylabel('test set accuracy', fontsize = 15)\n",
    "plt.xticks(fontsize = 15)\n",
    "plt.yticks(fontsize = 15)\n",
    "plt.show()\n",
    "\n",
    "torch.save(accs_random, os.path.join(os.getcwd(), 'al_params', 'accs_random_200.pth'))\n",
    "torch.save(accs_entropy, os.path.join(os.getcwd(), 'al_params', 'accs_entropy_200.pth'))"
   ]
  },
  {
   "cell_type": "code",
   "execution_count": 14,
   "metadata": {},
   "outputs": [],
   "source": [
    "rdn = torch.load(os.path.join(os.getcwd(), 'al_params', 'accs_random_1000_400.pth'))\n",
    "entr = torch.load(os.path.join(os.getcwd(), 'al_params', 'accs_entropy_1000_400.pth'))"
   ]
  },
  {
   "cell_type": "code",
   "execution_count": 15,
   "metadata": {},
   "outputs": [
    {
     "data": {
      "image/png": "[encoded data removed]",
      "text/plain": [
       "<Figure size 432x288 with 1 Axes>"
      ]
     },
     "metadata": {
      "needs_background": "light"
     },
     "output_type": "display_data"
    }
   ],
   "source": [
    "# Random question selection training \n",
    "plt.plot(entr, label = 'entropy')\n",
    "plt.plot(rdn, label='random')\n",
    "plt.legend()\n",
    "plt.show()"
   ]
  },
  {
   "cell_type": "code",
   "execution_count": null,
   "metadata": {},
   "outputs": [],
   "source": [
    "# Random question selection training \n",
    "plt.plot(loss_entropy, label = 'entropy')\n",
    "plt.plot(loss_r, label='random')\n",
    "plt.legend()\n",
    "plt.show()"
   ]
  },
  {
   "cell_type": "code",
   "execution_count": null,
   "metadata": {},
   "outputs": [],
   "source": []
  }
 ],
 "metadata": {
  "interpreter": {
   "hash": "aee8b7b246df8f9039afb4144a1f6fd8d2ca17a180786b69acc140d282b71a49"
  },
  "kernelspec": {
   "display_name": "Python 3.10.4 64-bit",
   "language": "python",
   "name": "python3"
  },
  "language_info": {
   "codemirror_mode": {
    "name": "ipython",
    "version": 3
   },
   "file_extension": ".py",
   "mimetype": "text/x-python",
   "name": "python",
   "nbconvert_exporter": "python",
   "pygments_lexer": "ipython3",
   "version": "3.10.4"
  },
  "orig_nbformat": 4
 },
 "nbformat": 4,
 "nbformat_minor": 2
}
