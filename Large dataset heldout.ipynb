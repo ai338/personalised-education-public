{
 "cells": [
  {
   "cell_type": "code",
   "execution_count": 10,
   "metadata": {},
   "outputs": [],
   "source": [
    "import torch\n",
    "import functions_data\n",
    "import os \n",
    "import functions_ordinal\n",
    "import functions_plotting\n",
    "import seaborn as sns\n",
    "import matplotlib.pyplot as plt \n",
    "from torch import optim\n",
    "import tqdm\n",
    "from scipy.stats import entropy\n",
    "import pandas as pd \n",
    "\n",
    "from functions_test_manipulations import get_merged_test_and_dict, get_dictionary, get_large_dataset\n",
    "import numpy as np "
   ]
  },
  {
   "cell_type": "markdown",
   "metadata": {},
   "source": [
    "#  Functions"
   ]
  },
  {
   "cell_type": "code",
   "execution_count": 11,
   "metadata": {},
   "outputs": [],
   "source": [
    "# select the number of students to train question parameters (and student parameters - for old students)\n",
    "def convert_dataframe_to_triples(data):\n",
    "    \"\"\"\n",
    "    input - data: dataframe of dimensions n_students x n_questions \n",
    "    returns tensor of dimensions ((n_students*n_questions), 3)\n",
    "    where first n_questions rows correspond to student 1, next n_questions rows correspond to student 3, etc. \n",
    "    \"\"\"\n",
    "    data = data.astype('float')\n",
    "    data_tensor = torch.tensor(data.values)\n",
    "    n_students, n_questions = data_tensor.shape[0], data_tensor.shape[1]\n",
    "\n",
    "    data_tensor = data_tensor.reshape(-1)\n",
    "\n",
    "    student_id = torch.arange(1, n_students + 1)\n",
    "    student_id = student_id.repeat_interleave(n_questions)\n",
    "\n",
    "    questions_in_order = data.columns\n",
    "    question_id = []\n",
    "    for q in questions_in_order:\n",
    "        question_id.append(int(q[1:]))\n",
    "\n",
    "    question_id = torch.tensor(question_id)\n",
    "    \n",
    "    # question_id = torch.arange(1, n_questions + 1)\n",
    "    question_id = question_id.repeat(n_students)\n",
    "    return torch.stack((student_id, question_id, data_tensor), dim=1)"
   ]
  },
  {
   "cell_type": "markdown",
   "metadata": {},
   "source": [
    "#  Load data for all three exams"
   ]
  },
  {
   "cell_type": "code",
   "execution_count": 12,
   "metadata": {},
   "outputs": [
    {
     "name": "stderr",
     "output_type": "stream",
     "text": [
      "/Users/anastasijailic/Library/Mobile Documents/com~apple~CloudDocs/Master/functions_test_manipulations.py:135: DtypeWarning: Columns (2,3,4,5,6,7,8,9,10,11,12,13,14,15,16,17,18,19,20,21,22,23,24,25,26,27,28,29,30,31,32,33,34,35,36) have mixed types. Specify dtype option on import or set low_memory=False.\n",
      "  data = pd.read_csv(data_filepath, index_col=0)\n"
     ]
    }
   ],
   "source": [
    "_, meta_dict = get_large_dataset()"
   ]
  },
  {
   "cell_type": "code",
   "execution_count": 13,
   "metadata": {},
   "outputs": [
    {
     "name": "stderr",
     "output_type": "stream",
     "text": [
      "/Users/anastasijailic/Library/Mobile Documents/com~apple~CloudDocs/Master/functions_test_manipulations.py:98: DtypeWarning: Columns (2,3,4,5,6,7,8,9,10,11,12,13,14,15,16,17,18,19,20,21,22,23,24,25,26,27,28,29,30,31,32,33,34,35,36) have mixed types. Specify dtype option on import or set low_memory=False.\n",
      "  data = pd.read_csv(data_filepath, index_col=0)\n"
     ]
    }
   ],
   "source": [
    "test_names = ['9to1_Edexcel_GCSE_Nov2018_1H', '9to1_Edexcel_GCSE_Nov2018_2H', \n",
    "'9to1_Edexcel_GCSE_Nov2018_3H']\n",
    "data, questions_info, IDs  = get_merged_test_and_dict(test_names)"
   ]
  },
  {
   "cell_type": "code",
   "execution_count": 14,
   "metadata": {},
   "outputs": [],
   "source": [
    "n_questions_first_exam = len(get_dictionary(meta_dict, test_names[0]))\n",
    "n_questions_second_exam = len(get_dictionary(meta_dict, test_names[1]))\n",
    "n_questions_third_exam = len(get_dictionary(meta_dict, test_names[2]))"
   ]
  },
  {
   "cell_type": "code",
   "execution_count": 15,
   "metadata": {},
   "outputs": [],
   "source": [
    "# data_path = os.path.join(os.getcwd(), 'data', 'three_exams_cleaned.csv')\n",
    "# dict_path = os.path.join(os.getcwd(), 'data', 'questions_info_dict.p')\n",
    "# data, questions_info = functions_data.load_data_and_dictionary(data_path, dict_path)\n",
    "\n",
    "n_students, n_questions = data.shape[0], data.shape[1]\n",
    "\n",
    "# if the score is higher than max score for the given question, put score = max_score \n",
    "for col in data:\n",
    "    m = questions_info[col]['Max']\n",
    "    data[col].loc[data[col] > m] = m\n",
    "\n",
    "# rename keys in the questions_info \n",
    "new_dictionary = {}\n",
    "columns_mapper = {}\n",
    "dict_keys = questions_info.keys()\n",
    "for ind, key_old in enumerate(dict_keys):\n",
    "    key_new = 'q' + str(ind + 1)\n",
    "    new_dictionary[key_new] = questions_info[key_old]\n",
    "    columns_mapper[key_old] = key_new \n",
    "\n",
    "# rename column in the dataframe\n",
    "data = data.rename(columns=columns_mapper)\n",
    "\n",
    "max_score = int(data.values.max())"
   ]
  },
  {
   "cell_type": "code",
   "execution_count": 16,
   "metadata": {},
   "outputs": [],
   "source": [
    "# Separate learning and pooling dataframe \n",
    "# training_students = 13563\n",
    "training_students = int(0.7*data.shape[0])\n",
    "pooling_students = data.shape[0] - training_students\n",
    "\n",
    "training_dataframe = data[:training_students]\n",
    "pooling_dataframe = data[training_students:]"
   ]
  },
  {
   "cell_type": "markdown",
   "metadata": {},
   "source": [
    "#  Pretrain parameters just using data from the first and last exam"
   ]
  },
  {
   "cell_type": "code",
   "execution_count": 17,
   "metadata": {},
   "outputs": [],
   "source": [
    "n_students, n_questions = training_dataframe.shape[0], training_dataframe.shape[1]\n",
    "\n",
    "training_tensor = torch.tensor(training_dataframe.astype('float').values)\n",
    "max_score = int(training_tensor.max().numpy())\n",
    "\n",
    "# select just the first and last exam in the training_dataframe to train on \n",
    "questions = list(training_dataframe.columns)\n",
    "first_and_third_exam_questions = questions[:n_questions_first_exam] + questions[-n_questions_third_exam:]\n",
    "no_second_exam_dataframe = training_dataframe[first_and_third_exam_questions]\n",
    "\n",
    "tensor_training = torch.tensor(no_second_exam_dataframe.astype('float').values)\n",
    "max_score = int(tensor_training.max().numpy())\n",
    "\n",
    "train_data, validation_data, test_data = functions_ordinal.separate_train_validation_test_data(tensor_training)\n",
    "\n",
    "train_data_max_scores = functions_ordinal.generate_max_scores_tensor(train_data, questions_info)\n",
    "test_data_max_scores = functions_ordinal.generate_max_scores_tensor(test_data, questions_info)\n",
    "validation_data_max_scores = functions_ordinal.generate_max_scores_tensor(validation_data, questions_info)\n",
    "\n",
    "# initialization of parameters \n",
    "bs_pretrained = torch.randn(n_students, requires_grad=True)\n",
    "bq0_pretrained = torch.distributions.uniform.Uniform(0,1).sample([n_questions,])\n",
    "rho_pretrained = torch.normal(0, 0.1, size = (n_questions, max_score - 1), requires_grad=True) # rho1, rho2, rho3 \n",
    "\n",
    "bq0_pretrained.requires_grad = True  \n",
    "\n",
    "\n",
    "nlls_train = []\n",
    "nlls_validation = []\n",
    "nlls_test = []\n",
    "\n",
    "iterations = 4000\n",
    "params = [bs_pretrained, bq0_pretrained, rho_pretrained]"
   ]
  },
  {
   "cell_type": "markdown",
   "metadata": {},
   "source": [
    "#  Pretraining"
   ]
  },
  {
   "cell_type": "code",
   "execution_count": 18,
   "metadata": {},
   "outputs": [
    {
     "name": "stdout",
     "output_type": "stream",
     "text": [
      "0\n",
      "100\n",
      "200\n",
      "300\n",
      "400\n",
      "500\n",
      "600\n",
      "700\n",
      "800\n",
      "900\n",
      "1000\n",
      "1100\n",
      "1200\n",
      "1300\n",
      "1400\n",
      "1500\n",
      "1600\n",
      "1700\n",
      "1800\n",
      "1900\n",
      "2000\n",
      "2100\n",
      "2200\n",
      "2300\n",
      "2400\n",
      "2500\n",
      "2600\n",
      "2700\n",
      "2800\n",
      "2900\n",
      "3000\n",
      "3100\n",
      "3200\n",
      "3300\n",
      "3400\n",
      "3500\n",
      "3600\n",
      "3700\n",
      "3800\n",
      "3900\n"
     ]
    }
   ],
   "source": [
    "opt = optim.SGD(params, lr = 0.0001)\n",
    "\n",
    "for iter in range(iterations):\n",
    "    loss = functions_ordinal.nll(train_data, params, max_score, train_data_max_scores)    \n",
    "    opt.zero_grad()\n",
    "    loss.backward()\n",
    "    opt.step()\n",
    "    nlls_train.append(loss.detach().numpy())\n",
    "\n",
    "    loss_validation = functions_ordinal.nll(validation_data, params, max_score, validation_data_max_scores)\n",
    "    loss_test = functions_ordinal.nll(test_data, params, max_score, test_data_max_scores)\n",
    "\n",
    "    nlls_validation.append(loss_validation.detach().numpy())\n",
    "    nlls_test.append(loss_test.detach().numpy())\n",
    "\n",
    "    if iter % 100 == 0:\n",
    "        print(iter)"
   ]
  },
  {
   "cell_type": "markdown",
   "metadata": {},
   "source": [
    "#  Separate learning pool and testing pool for active learning "
   ]
  },
  {
   "cell_type": "code",
   "execution_count": 19,
   "metadata": {},
   "outputs": [],
   "source": [
    "questions = list(pooling_dataframe.columns)\n",
    "n_questions_first_second_test = n_questions - n_questions_third_exam\n",
    "learning_questions = questions[:n_questions_first_exam]\n",
    "testing_questions = questions[-n_questions_third_exam:] # testing questions are now the entire exam (third one)\n",
    "\n",
    "# number of questions in the learning pool and testing pool \n",
    "n_learning_pool = len(learning_questions)\n",
    "n_testing_pool = len(testing_questions)\n",
    "\n",
    "learning_pool_df = pooling_dataframe[learning_questions]\n",
    "testing_pool_df = pooling_dataframe[testing_questions]\n",
    "\n",
    "learning_pool = convert_dataframe_to_triples(learning_pool_df)\n",
    "testing_pool = convert_dataframe_to_triples(testing_pool_df)\n",
    "\n",
    "learning_pool_max_scores = functions_ordinal.generate_max_scores_tensor(learning_pool, new_dictionary)\n",
    "testing_pool_max_scores = functions_ordinal.generate_max_scores_tensor(testing_pool, new_dictionary)"
   ]
  },
  {
   "cell_type": "markdown",
   "metadata": {},
   "source": [
    "# Retrain parameters on the entire learning pool "
   ]
  },
  {
   "cell_type": "code",
   "execution_count": 20,
   "metadata": {},
   "outputs": [
    {
     "name": "stdout",
     "output_type": "stream",
     "text": [
      "Accuracy before training  0.44277075\n",
      "0 tensor(129172.1484, grad_fn=<NegBackward0>)\n",
      "100 tensor(125216.4531, grad_fn=<NegBackward0>)\n",
      "200 tensor(121657.5625, grad_fn=<NegBackward0>)\n",
      "300 tensor(118465.0938, grad_fn=<NegBackward0>)\n",
      "400 tensor(115609.2188, grad_fn=<NegBackward0>)\n",
      "500 tensor(113061.0469, grad_fn=<NegBackward0>)\n",
      "600 tensor(110792.8047, grad_fn=<NegBackward0>)\n",
      "700 tensor(108778.0625, grad_fn=<NegBackward0>)\n",
      "800 tensor(106991.8750, grad_fn=<NegBackward0>)\n",
      "900 tensor(105410.9453, grad_fn=<NegBackward0>)\n",
      "1000 tensor(104013.6094, grad_fn=<NegBackward0>)\n",
      "1100 tensor(102779.9297, grad_fn=<NegBackward0>)\n",
      "1200 tensor(101691.7031, grad_fn=<NegBackward0>)\n",
      "1300 tensor(100732.3359, grad_fn=<NegBackward0>)\n",
      "1400 tensor(99886.9219, grad_fn=<NegBackward0>)\n",
      "1500 tensor(99142.0234, grad_fn=<NegBackward0>)\n",
      "1600 tensor(98485.6797, grad_fn=<NegBackward0>)\n",
      "1700 tensor(97907.2188, grad_fn=<NegBackward0>)\n",
      "1800 tensor(97397.2109, grad_fn=<NegBackward0>)\n",
      "1900 tensor(96947.3438, grad_fn=<NegBackward0>)\n",
      "2000 tensor(96550.2344, grad_fn=<NegBackward0>)\n",
      "2100 tensor(96199.4609, grad_fn=<NegBackward0>)\n",
      "2200 tensor(95889.3594, grad_fn=<NegBackward0>)\n",
      "2300 tensor(95614.9375, grad_fn=<NegBackward0>)\n",
      "2400 tensor(95371.8672, grad_fn=<NegBackward0>)\n",
      "2500 tensor(95156.3281, grad_fn=<NegBackward0>)\n",
      "2600 tensor(94964.9844, grad_fn=<NegBackward0>)\n",
      "2700 tensor(94794.9609, grad_fn=<NegBackward0>)\n",
      "2800 tensor(94643.6719, grad_fn=<NegBackward0>)\n",
      "2900 tensor(94508.8984, grad_fn=<NegBackward0>)\n",
      "3000 tensor(94388.7031, grad_fn=<NegBackward0>)\n",
      "3100 tensor(94281.3672, grad_fn=<NegBackward0>)\n",
      "3200 tensor(94185.3750, grad_fn=<NegBackward0>)\n",
      "3300 tensor(94099.4453, grad_fn=<NegBackward0>)\n",
      "3400 tensor(94022.3984, grad_fn=<NegBackward0>)\n",
      "3500 tensor(93953.2266, grad_fn=<NegBackward0>)\n",
      "3600 tensor(93891.0625, grad_fn=<NegBackward0>)\n",
      "3700 tensor(93835.1172, grad_fn=<NegBackward0>)\n",
      "3800 tensor(93784.6719, grad_fn=<NegBackward0>)\n",
      "3900 tensor(93739.1719, grad_fn=<NegBackward0>)\n",
      "4000 tensor(93698.0391, grad_fn=<NegBackward0>)\n",
      "4100 tensor(93660.8203, grad_fn=<NegBackward0>)\n",
      "4200 tensor(93627.0938, grad_fn=<NegBackward0>)\n",
      "4300 tensor(93596.4922, grad_fn=<NegBackward0>)\n",
      "4400 tensor(93568.7031, grad_fn=<NegBackward0>)\n",
      "4500 tensor(93543.4062, grad_fn=<NegBackward0>)\n",
      "4600 tensor(93520.3672, grad_fn=<NegBackward0>)\n",
      "4700 tensor(93499.3516, grad_fn=<NegBackward0>)\n",
      "4800 tensor(93480.1641, grad_fn=<NegBackward0>)\n",
      "4900 tensor(93462.6172, grad_fn=<NegBackward0>)\n"
     ]
    }
   ],
   "source": [
    "# number of students in the learning pool \n",
    "S_learning_pool = pooling_students # could also be init as learning_pool_df.shape[0]\n",
    "Q_learning_pool = n_learning_pool # learning_pool_df.shape[0]\n",
    "\n",
    "bs_pool = torch.randn(S_learning_pool, requires_grad=True)\n",
    "# bs_pool = torch.repeat_interleave(bs_pretrained.detach().mean(), S_learning_pool)\n",
    "bs_pool.requires_grad = True\n",
    "bq0_pool = bq0_pretrained.detach().clone()\n",
    "rho_pool = rho_pretrained.detach().clone()\n",
    "\n",
    "\n",
    "# calculate initial accuracy with randomly assigned bs \n",
    "active_learning_iterations = Q_learning_pool \n",
    "initial_accuracy = 0 \n",
    "\n",
    "prob_matrix = functions_ordinal.generate_prob_matrix(testing_pool, bs_pool, bq0_pool, rho_pool, max_score, testing_pool_max_scores)\n",
    "predicted_scores = prob_matrix.argmax(axis = 1)\n",
    "true_scores = testing_pool[:, 2]\n",
    "\n",
    "initial_accuracy = functions_ordinal.full_accuracy(true_scores, predicted_scores).numpy()\n",
    "print('Accuracy before training ', initial_accuracy)\n",
    "\n",
    "# def retrain_parameters(data, data_max_scores, bs_pool, bq0_pool, rho_pool, max_score, loss_, it):\n",
    "iterations = 5000 \n",
    "\n",
    "bq0_pool.requires_grad = False \n",
    "rho_pool.requires_grad = False\n",
    "\n",
    "params = [bs_pool, bq0_pool, rho_pool]\n",
    "opt = optim.SGD(params, lr = 0.0001)\n",
    "n = learning_pool.shape[0]\n",
    "loss_random_init = []\n",
    "accuracies_random_init = []\n",
    "\n",
    "for iter in range(iterations):\n",
    "    loss = functions_ordinal.nll(learning_pool, params, max_score, learning_pool_max_scores)\n",
    "    opt.zero_grad()\n",
    "    loss.backward()\n",
    "    opt.step()\n",
    "    loss_random_init.append(loss/n)\n",
    "\n",
    "\n",
    "    prob_matrix = functions_ordinal.generate_prob_matrix(testing_pool, bs_pool, bq0_pool, rho_pool, max_score, testing_pool_max_scores)\n",
    "    predicted_scores = prob_matrix.argmax(axis = 1)\n",
    "    true_scores = testing_pool[:, 2]\n",
    "    \n",
    "    accuracies_random_init.append(functions_ordinal.full_accuracy(true_scores, predicted_scores).numpy())\n",
    "\n",
    "    if iter % 100 == 0:\n",
    "        print(iter, loss)\n"
   ]
  },
  {
   "cell_type": "code",
   "execution_count": 21,
   "metadata": {},
   "outputs": [
    {
     "data": {
      "text/plain": [
       "Text(0.5, 1.0, 'Training for new students in the learning pool')"
      ]
     },
     "execution_count": 21,
     "metadata": {},
     "output_type": "execute_result"
    },
    {
     "data": {
      "image/png": "[encoded data removed]",
      "text/plain": [
       "<Figure size 432x288 with 1 Axes>"
      ]
     },
     "metadata": {
      "needs_background": "light"
     },
     "output_type": "display_data"
    }
   ],
   "source": [
    "loss_random_init = [x.detach().numpy() for x in loss_random_init]\n",
    "plt.plot(accuracies_random_init, label ='accuracies random init')\n",
    "plt.plot(loss_random_init, label = 'loss random init')\n",
    "\n",
    "# plt.plot(accuracies_mean_bs_initialisation, label ='accuracies mean init')\n",
    "# plt.plot(loss_mean_bs_init, label = 'loss mean init')\n",
    "\n",
    "plt.legend(fontsize=13)\n",
    "plt.xlabel('iteration', size = 15)\n",
    "plt.xticks(fontsize=14)\n",
    "plt.yticks(fontsize=14)\n",
    "plt.title('Training for new students in the learning pool', fontsize=14)"
   ]
  },
  {
   "cell_type": "markdown",
   "metadata": {},
   "source": [
    "#  Mean prediction for each student on the heldout exam"
   ]
  },
  {
   "cell_type": "code",
   "execution_count": 22,
   "metadata": {},
   "outputs": [],
   "source": [
    "prob_matrix = functions_ordinal.generate_prob_matrix(testing_pool, bs_pool, bq0_pool, rho_pool, max_score, testing_pool_max_scores)\n",
    "predicted_scores = prob_matrix.argmax(axis = 1)\n",
    "true_scores = testing_pool[:, 2]\n",
    "scores_matrix = torch.tensor(list(np.arange(0, max_score + 1, 1))).repeat(prob_matrix.shape[0], 1)\n",
    "expected_value_matrix = torch.mul(prob_matrix, scores_matrix) \n",
    "predicted_expected_value_scores = expected_value_matrix.sum(axis = 1)"
   ]
  },
  {
   "cell_type": "code",
   "execution_count": 23,
   "metadata": {},
   "outputs": [],
   "source": [
    "df = pd.DataFrame(testing_pool.numpy(), columns=['studentID', 'questionID', 'score'])\n",
    "df['thresh_predicted_score'] = predicted_scores\n",
    "df['mean_predicted_score'] = predicted_expected_value_scores.detach().numpy()\n",
    "\n",
    "df_sum = df.groupby(['studentID']).sum()"
   ]
  },
  {
   "cell_type": "code",
   "execution_count": 24,
   "metadata": {},
   "outputs": [
    {
     "name": "stdout",
     "output_type": "stream",
     "text": [
      "Accuracy on the testing pool  0.5156680194159307\n"
     ]
    }
   ],
   "source": [
    "print('Accuracy on the testing pool ', (df['thresh_predicted_score'] == df['score']).astype(int).sum()/df.shape[0])"
   ]
  },
  {
   "cell_type": "code",
   "execution_count": 36,
   "metadata": {},
   "outputs": [
    {
     "data": {
      "image/png": "[encoded data removed]",
      "text/plain": [
       "<Figure size 576x432 with 1 Axes>"
      ]
     },
     "metadata": {
      "needs_background": "light"
     },
     "output_type": "display_data"
    }
   ],
   "source": [
    "plt.figure(figsize=(8, 6))\n",
    "sns.kdeplot(df_sum.score, label = 'true score distribution')\n",
    "sns.kdeplot(df_sum.thresh_predicted_score, label = 'predicted score distribution - thresh')\n",
    "sns.kdeplot(df_sum.mean_predicted_score, label = 'predicted score distribution - expected value')\n",
    "plt.legend(fontsize = 11)\n",
    "plt.xlabel('overall score of student on the third test', fontsize = 13)\n",
    "plt.xticks(fontsize = 13)\n",
    "plt.yticks(fontsize = 13)\n",
    "plt.ylabel('Distribution of total scores - density', fontsize = 13)\n",
    "plt.show()"
   ]
  },
  {
   "cell_type": "code",
   "execution_count": 37,
   "metadata": {},
   "outputs": [
    {
     "data": {
      "image/png": "[encoded data removed]",
      "text/plain": [
       "<Figure size 576x432 with 1 Axes>"
      ]
     },
     "metadata": {
      "needs_background": "light"
     },
     "output_type": "display_data"
    }
   ],
   "source": [
    "true_scores = torch.tensor(df_sum['score'].values)\n",
    "student_ids = df_sum.index.to_numpy()\n",
    "predicted_scores = torch.tensor(df_sum['mean_predicted_score'].values)\n",
    "diff = true_scores - predicted_scores\n",
    "n_students_selected = 5000\n",
    "plt.figure(figsize=(8, 6))\n",
    "plt.scatter(predicted_scores, true_scores, color='skyblue')\n",
    "plt.xlabel('predicted score', size = 15)\n",
    "plt.ylabel('true score', size = 15)\n",
    "x = np.arange(0,80)\n",
    "plt.plot(x, x, color='r', linewidth = 3)\n",
    "plt.plot(x, x, color='r', linewidth = 3)\n",
    "plt.plot(x, x-15, color = 'b')\n",
    "plt.plot(x, x+15, color = 'b', label = r'$x \\pm 20$')\n",
    "plt.legend()\n",
    "\n",
    "plt.title('Third exam prediction of total score for each student', size=15)\n",
    "plt.show()"
   ]
  },
  {
   "cell_type": "markdown",
   "metadata": {},
   "source": [
    "#  Retrain parameters including the second test "
   ]
  },
  {
   "cell_type": "code",
   "execution_count": 26,
   "metadata": {},
   "outputs": [],
   "source": [
    "questions = list(pooling_dataframe.columns)\n",
    "n_questions_first_second_test = n_questions - n_questions_third_exam\n",
    "learning_questions = questions[:n_questions_first_exam]\n",
    "testing_questions = questions[-n_questions_third_exam:] # testing questions are now the entire exam (third one)\n",
    "\n",
    "# number of questions in the learning pool and testing pool \n",
    "n_learning_pool = len(learning_questions)\n",
    "n_testing_pool = len(testing_questions)\n",
    "\n",
    "learning_pool_df = pooling_dataframe[learning_questions]\n",
    "testing_pool_df = pooling_dataframe[testing_questions]\n",
    "\n",
    "learning_pool = convert_dataframe_to_triples(learning_pool_df)\n",
    "testing_pool = convert_dataframe_to_triples(testing_pool_df)\n",
    "\n",
    "learning_pool_max_scores = functions_ordinal.generate_max_scores_tensor(learning_pool, new_dictionary)\n",
    "testing_pool_max_scores = functions_ordinal.generate_max_scores_tensor(testing_pool, new_dictionary)"
   ]
  },
  {
   "cell_type": "code",
   "execution_count": 34,
   "metadata": {},
   "outputs": [
    {
     "name": "stdout",
     "output_type": "stream",
     "text": [
      "tensor([-2.1837, -3.6924, -0.8758,  ...,  0.2920,  0.8025, -0.0972],\n",
      "       grad_fn=<CloneBackward0>)\n"
     ]
    }
   ],
   "source": [
    "print(bs_retrain)"
   ]
  },
  {
   "cell_type": "code",
   "execution_count": 35,
   "metadata": {},
   "outputs": [
    {
     "name": "stdout",
     "output_type": "stream",
     "text": [
      "tensor([-2.2230, -3.7398, -0.8666,  ...,  0.2899,     nan, -0.1244],\n",
      "       requires_grad=True)\n"
     ]
    }
   ],
   "source": [
    "print(bs_pool)"
   ]
  },
  {
   "cell_type": "code",
   "execution_count": 31,
   "metadata": {},
   "outputs": [
    {
     "name": "stdout",
     "output_type": "stream",
     "text": [
      "Accuracy before training  0.51566803\n",
      "0 tensor(inf, grad_fn=<NegBackward0>)\n"
     ]
    },
    {
     "ename": "KeyboardInterrupt",
     "evalue": "",
     "output_type": "error",
     "traceback": [
      "\u001b[0;31m---------------------------------------------------------------------------\u001b[0m",
      "\u001b[0;31mKeyboardInterrupt\u001b[0m                         Traceback (most recent call last)",
      "\u001b[1;32m/Users/anastasijailic/Library/Mobile Documents/com~apple~CloudDocs/Master/Large dataset heldout.ipynb Cell 27'\u001b[0m in \u001b[0;36m<cell line: 31>\u001b[0;34m()\u001b[0m\n\u001b[1;32m     <a href='vscode-notebook-cell:/Users/anastasijailic/Library/Mobile%20Documents/com~apple~CloudDocs/Master/Large%20dataset%20heldout.ipynb#ch0000039?line=35'>36</a>\u001b[0m new_loss\u001b[39m.\u001b[39mappend(loss\u001b[39m/\u001b[39mn)\n\u001b[1;32m     <a href='vscode-notebook-cell:/Users/anastasijailic/Library/Mobile%20Documents/com~apple~CloudDocs/Master/Large%20dataset%20heldout.ipynb#ch0000039?line=38'>39</a>\u001b[0m prob_matrix \u001b[39m=\u001b[39m functions_ordinal\u001b[39m.\u001b[39mgenerate_prob_matrix(testing_pool, bs_pool, bq0_pool, rho_pool, max_score, testing_pool_max_scores)\n\u001b[0;32m---> <a href='vscode-notebook-cell:/Users/anastasijailic/Library/Mobile%20Documents/com~apple~CloudDocs/Master/Large%20dataset%20heldout.ipynb#ch0000039?line=39'>40</a>\u001b[0m predicted_scores \u001b[39m=\u001b[39m prob_matrix\u001b[39m.\u001b[39;49margmax(axis \u001b[39m=\u001b[39;49m \u001b[39m1\u001b[39;49m)\n\u001b[1;32m     <a href='vscode-notebook-cell:/Users/anastasijailic/Library/Mobile%20Documents/com~apple~CloudDocs/Master/Large%20dataset%20heldout.ipynb#ch0000039?line=40'>41</a>\u001b[0m true_scores \u001b[39m=\u001b[39m testing_pool[:, \u001b[39m2\u001b[39m]\n\u001b[1;32m     <a href='vscode-notebook-cell:/Users/anastasijailic/Library/Mobile%20Documents/com~apple~CloudDocs/Master/Large%20dataset%20heldout.ipynb#ch0000039?line=42'>43</a>\u001b[0m new_accuracies\u001b[39m.\u001b[39mappend(functions_ordinal\u001b[39m.\u001b[39mfull_accuracy(true_scores, predicted_scores)\u001b[39m.\u001b[39mnumpy())\n",
      "\u001b[0;31mKeyboardInterrupt\u001b[0m: "
     ]
    }
   ],
   "source": [
    "# new learning pool is just second exam to inform the model more about student's ability \n",
    "questions = list(pooling_dataframe.columns)\n",
    "learning_questions = questions[:n_questions_first_exam + n_questions_second_exam]\n",
    "\n",
    "learning_pool_df = pooling_dataframe[learning_questions]\n",
    "\n",
    "learning_pool = convert_dataframe_to_triples(learning_pool_df)\n",
    "learning_pool_max_scores = functions_ordinal.generate_max_scores_tensor(learning_pool, new_dictionary)\n",
    "\n",
    "\n",
    "# accuracy on the test set pre-pre training the model \n",
    "prob_matrix = functions_ordinal.generate_prob_matrix(testing_pool, bs_pool, bq0_pool, rho_pool, max_score, testing_pool_max_scores)\n",
    "predicted_scores = prob_matrix.argmax(axis = 1)\n",
    "true_scores = testing_pool[:, 2]\n",
    "\n",
    "initial_accuracy = functions_ordinal.full_accuracy(true_scores, predicted_scores).numpy()\n",
    "print('Accuracy before training ', initial_accuracy)\n",
    "\n",
    "bs_retrain = bs_pool.clone()\n",
    "bq0_retrain = bq0_pool.clone()\n",
    "rho_retrain = rho_pool.clone()\n",
    "\n",
    "iterations = 5000 \n",
    "params = [bs_pool, bq0_pool, rho_pool]\n",
    "opt = optim.SGD(params, lr = 0.0001)\n",
    "new_loss = []\n",
    "new_accuracies = []\n",
    "\n",
    "n = learning_pool.shape[0]\n",
    "\n",
    "for iter in range(iterations):\n",
    "    loss = functions_ordinal.nll(learning_pool, params, max_score, learning_pool_max_scores)\n",
    "    opt.zero_grad()\n",
    "    loss.backward()\n",
    "    opt.step()\n",
    "    new_loss.append(loss/n)\n",
    "\n",
    "\n",
    "    prob_matrix = functions_ordinal.generate_prob_matrix(testing_pool, bs_pool, bq0_pool, rho_pool, max_score, testing_pool_max_scores)\n",
    "    predicted_scores = prob_matrix.argmax(axis = 1)\n",
    "    true_scores = testing_pool[:, 2]\n",
    "    \n",
    "    new_accuracies.append(functions_ordinal.full_accuracy(true_scores, predicted_scores).numpy())\n",
    "\n",
    "    if iter % 100 == 0:\n",
    "        print(iter, loss)\n"
   ]
  },
  {
   "cell_type": "code",
   "execution_count": 33,
   "metadata": {},
   "outputs": [
    {
     "name": "stdout",
     "output_type": "stream",
     "text": [
      "torch.Size([242962, 3])\n",
      "242962\n"
     ]
    }
   ],
   "source": [
    "print(learning_pool.shape)\n",
    "print(len(learning_pool_max_scores))"
   ]
  },
  {
   "cell_type": "code",
   "execution_count": null,
   "metadata": {},
   "outputs": [],
   "source": []
  }
 ],
 "metadata": {
  "interpreter": {
   "hash": "aee8b7b246df8f9039afb4144a1f6fd8d2ca17a180786b69acc140d282b71a49"
  },
  "kernelspec": {
   "display_name": "Python 3.10.4 64-bit",
   "language": "python",
   "name": "python3"
  },
  "language_info": {
   "codemirror_mode": {
    "name": "ipython",
    "version": 3
   },
   "file_extension": ".py",
   "mimetype": "text/x-python",
   "name": "python",
   "nbconvert_exporter": "python",
   "pygments_lexer": "ipython3",
   "version": "3.10.4"
  },
  "orig_nbformat": 4
 },
 "nbformat": 4,
 "nbformat_minor": 2
}
