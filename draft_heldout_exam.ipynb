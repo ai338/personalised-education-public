{
 "cells": [
  {
   "cell_type": "code",
   "execution_count": 27,
   "metadata": {},
   "outputs": [],
   "source": [
    "import pandas as pd \n",
    "from functions_test_manipulations import get_large_dataset, get_merged_test_and_dict, merge_tests, merge_dictionaries, get_test, get_dictionary\n",
    "import torch\n",
    "import functions_ordinal \n",
    "import os \n",
    "from torch import optim \n",
    "import matplotlib.pyplot as plt \n",
    "import numpy as np"
   ]
  },
  {
   "cell_type": "markdown",
   "metadata": {},
   "source": [
    "#  Heldout exam prediction"
   ]
  },
  {
   "cell_type": "code",
   "execution_count": 3,
   "metadata": {},
   "outputs": [
    {
     "name": "stderr",
     "output_type": "stream",
     "text": [
      "/Users/anastasijailic/Library/Mobile Documents/com~apple~CloudDocs/Master/functions_test_manipulations.py:135: DtypeWarning: Columns (2,3,4,5,6,7,8,9,10,11,12,13,14,15,16,17,18,19,20,21,22,23,24,25,26,27,28,29,30,31,32,33,34,35,36) have mixed types. Specify dtype option on import or set low_memory=False.\n",
      "  data = pd.read_csv(data_filepath, index_col=0)\n"
     ]
    }
   ],
   "source": [
    "data, meta_dict = get_large_dataset()"
   ]
  },
  {
   "cell_type": "code",
   "execution_count": 6,
   "metadata": {},
   "outputs": [
    {
     "name": "stdout",
     "output_type": "stream",
     "text": [
      "['9to1_2017_GCSE_1H' '9to1_2017_GCSE_2H' '9to1_2017_GCSE_3H'\n",
      " '9to1_Edexcel_GCSE_Nov2018_1H' '9to1_Edexcel_GCSE_Nov2018_2H'\n",
      " '9to1_Edexcel_GCSE_Nov2018_3H' '9to1_Edexcel_Nov2017_GCSE_2H'\n",
      " '9to1_Edexcel_Nov2017_GCSE_3H' '9to1_GCSE_Edxcel_Summer2018_1H'\n",
      " '9to1_GCSE_Edxcel_Summer2018_2H' '9to1_GCSE_Edxcel_Summer2018_3H'\n",
      " '9to1_GCSE_Edxcel_Summer2019_2H' '9to1_GCSE_Edxcel_Summer2019_3H']\n"
     ]
    }
   ],
   "source": [
    "all_test_names = data['TestName'].unique()\n",
    "print(all_test_names)"
   ]
  },
  {
   "cell_type": "code",
   "execution_count": 8,
   "metadata": {},
   "outputs": [
    {
     "name": "stderr",
     "output_type": "stream",
     "text": [
      "/Users/anastasijailic/Library/Mobile Documents/com~apple~CloudDocs/Master/functions_test_manipulations.py:98: DtypeWarning: Columns (2,3,4,5,6,7,8,9,10,11,12,13,14,15,16,17,18,19,20,21,22,23,24,25,26,27,28,29,30,31,32,33,34,35,36) have mixed types. Specify dtype option on import or set low_memory=False.\n",
      "  data = pd.read_csv(data_filepath, index_col=0)\n"
     ]
    }
   ],
   "source": [
    "# merge tests 1H, 2H and 3H \n",
    "test_names = ['9to1_Edexcel_GCSE_Nov2018_1H', '9to1_Edexcel_GCSE_Nov2018_2H',\n",
    " '9to1_Edexcel_GCSE_Nov2018_3H']\n",
    "merged_3_exams, dict_3_exams, IDs  = get_merged_test_and_dict(test_names) # merged_3_exams doesn't have studentID but IDs are studentIDs in the merged exam \n",
    "heldout_exam = get_test(data, test_names[-1]) # has student ID and TestName as a column "
   ]
  },
  {
   "cell_type": "code",
   "execution_count": 10,
   "metadata": {},
   "outputs": [],
   "source": [
    "# pretrain student parameters on exams 1H and 2H \n",
    "questions_heldout_exam = heldout_exam.columns[2:]\n",
    "test_3H_exam = merged_3_exams[merged_3_exams.columns[-len(questions_heldout_exam):]]\n",
    "train_1H_2H_exams = merged_3_exams[merged_3_exams.columns[:-len(questions_heldout_exam)]]"
   ]
  },
  {
   "cell_type": "code",
   "execution_count": 13,
   "metadata": {},
   "outputs": [
    {
     "name": "stdout",
     "output_type": "stream",
     "text": [
      "      q1 q2 q3 q4 q5 q6 q7 q8 q9 q10  ... q49 q50 q51 q52 q53 q54 q55 q56 q57  \\\n",
      "0      2  2  2  4  1  1  3  1  3   4  ...   3   2   1   2   2   0   1   5   3   \n",
      "1      1  2  0  3  2  1  3  1  3   4  ...   3   0   0   1   2   1   0   0   5   \n",
      "2      1  2  2  5  2  1  0  0  0   4  ...   0   2   1   0   2   0   0   0   3   \n",
      "3      1  2  2  3  2  1  1  0  0   0  ...   0   0   0   2   2   1   0   0   3   \n",
      "4      1  2  0  4  2  1  3  1  0   0  ...   0   0   1   2   2   0   0   0   1   \n",
      "...   .. .. .. .. .. .. .. .. ..  ..  ...  ..  ..  ..  ..  ..  ..  ..  ..  ..   \n",
      "13958  2  2  1  4  2  1  3  0  0   0  ...   3   0   0   2   2   1   1   0   0   \n",
      "13959  0  1  0  5  0  1  0  0  0   0  ...   0   0   0   1   0   0   0   3   0   \n",
      "13960  1  0  2  1  2  0  3  0  0   1  ...   3   0   0   1   0   0   0   0   0   \n",
      "13961  0  1  1  2  0  1  1  0  0   1  ...   1   0   0   0   1   0   0   0   2   \n",
      "13962  0  1  2  5  2  0  0  0  3   4  ...   0   2   1   1   0   0   0   3   1   \n",
      "\n",
      "      q58  \n",
      "0       0  \n",
      "1       0  \n",
      "2       0  \n",
      "3       0  \n",
      "4       2  \n",
      "...    ..  \n",
      "13958   0  \n",
      "13959   0  \n",
      "13960   0  \n",
      "13961   0  \n",
      "13962   0  \n",
      "\n",
      "[13963 rows x 58 columns]\n"
     ]
    }
   ],
   "source": [
    "print(train_1H_2H_exams) # [13963 rows x 58 columns]"
   ]
  },
  {
   "cell_type": "markdown",
   "metadata": {},
   "source": [
    "##  Train student parameters on the 1H and 2H exams "
   ]
  },
  {
   "cell_type": "code",
   "execution_count": 14,
   "metadata": {},
   "outputs": [
    {
     "name": "stdout",
     "output_type": "stream",
     "text": [
      "0\n",
      "100\n",
      "200\n",
      "300\n",
      "400\n",
      "500\n",
      "600\n",
      "700\n",
      "800\n",
      "900\n",
      "1000\n",
      "1100\n",
      "1200\n",
      "1300\n",
      "1400\n",
      "1500\n",
      "1600\n",
      "1700\n",
      "1800\n",
      "1900\n",
      "2000\n",
      "2100\n",
      "2200\n",
      "2300\n",
      "2400\n",
      "2500\n",
      "2600\n",
      "2700\n",
      "2800\n",
      "2900\n",
      "3000\n",
      "3100\n",
      "3200\n",
      "3300\n",
      "3400\n",
      "3500\n",
      "3600\n",
      "3700\n",
      "3800\n",
      "3900\n"
     ]
    }
   ],
   "source": [
    "ordinal_data = train_1H_2H_exams.astype('float')\n",
    "ordinal_tensor = torch.tensor(ordinal_data.values)\n",
    "\n",
    "n_students, n_questions = ordinal_tensor.shape[0], ordinal_tensor.shape[1]\n",
    "max_score = int(ordinal_tensor.max().numpy())\n",
    "\n",
    "train_data, validation_data, test_data = functions_ordinal.separate_train_validation_test_data(ordinal_tensor)\n",
    "\n",
    "train_data_max_scores = functions_ordinal.generate_max_scores_tensor(train_data, dict_3_exams)\n",
    "test_data_max_scores = functions_ordinal.generate_max_scores_tensor(test_data, dict_3_exams)\n",
    "validation_data_max_scores = functions_ordinal.generate_max_scores_tensor(validation_data, dict_3_exams)\n",
    "# initialization of parameters \n",
    "bs = torch.randn(n_students, requires_grad=True)\n",
    "bq0 = torch.distributions.uniform.Uniform(0,1).sample([n_questions,])\n",
    "rho = torch.normal(0, 0.1, size = (n_questions, max_score - 1), requires_grad=True) # rho1, rho2, rho3 \n",
    "\n",
    "bq0.requires_grad = True  \n",
    "\n",
    "\n",
    "nlls_train = []\n",
    "nlls_validation = []\n",
    "nlls_test = []\n",
    "\n",
    "iterations = 4000\n",
    "params = [bs, bq0, rho]\n",
    "\n",
    "opt = optim.SGD(params, lr = 0.0001)\n",
    "\n",
    "for iter in range(iterations):\n",
    "    loss = functions_ordinal.nll(train_data, params, max_score, train_data_max_scores)    \n",
    "    opt.zero_grad()\n",
    "    loss.backward()\n",
    "    opt.step()\n",
    "    nlls_train.append(loss.detach().numpy())\n",
    "\n",
    "    loss_validation = functions_ordinal.nll(validation_data, params, max_score, validation_data_max_scores)\n",
    "    loss_test = functions_ordinal.nll(test_data, params, max_score, test_data_max_scores)\n",
    "\n",
    "    nlls_validation.append(loss_validation.detach().numpy())\n",
    "    nlls_test.append(loss_test.detach().numpy())\n",
    "\n",
    "    if iter % 100 == 0:\n",
    "        print(iter)"
   ]
  },
  {
   "cell_type": "code",
   "execution_count": 15,
   "metadata": {},
   "outputs": [
    {
     "data": {
      "image/png": "[encoded data removed]",
      "text/plain": [
       "<Figure size 432x288 with 1 Axes>"
      ]
     },
     "metadata": {
      "needs_background": "light"
     },
     "output_type": "display_data"
    }
   ],
   "source": [
    "nlls_train_scaled = [x/train_data.shape[0] for x in nlls_train]\n",
    "nlls_test_scaled = [x/test_data.shape[0] for x in nlls_test]\n",
    "nlls_validation_scaled = [x/validation_data.shape[0] for x in nlls_validation]\n",
    "\n",
    "plt.plot(nlls_test_scaled, label = 'test loss')\n",
    "plt.plot(nlls_validation_scaled, label = 'valid. loss')\n",
    "plt.plot(nlls_train_scaled, label = 'train loss')\n",
    "plt.legend()\n",
    "plt.xlabel('iteration', fontsize = 14)\n",
    "plt.xticks(fontsize=14)\n",
    "plt.ylabel('Negative log-likelihood', fontsize = 14)\n",
    "plt.yticks(fontsize=14)\n",
    "plt.show()"
   ]
  },
  {
   "cell_type": "code",
   "execution_count": 16,
   "metadata": {},
   "outputs": [],
   "source": [
    "# select students that are not in the intersection of the exams 1H and 2H\n",
    "# heldout_exam_train = heldout_exam.loc[~heldout_exam['AnonymousStudentID'].isin(studentID_heldout_exam)]\n",
    "\n",
    "# select students that are in the intersection of the exams 1H and 2H because they will be used the testing \n",
    "# heldout_exam_test = heldout_exam.loc[heldout_exam['AnonymousStudentID'].isin(studentID_heldout_exam)]"
   ]
  },
  {
   "cell_type": "markdown",
   "metadata": {},
   "source": [
    "##  Train question parameters for the heldout exam "
   ]
  },
  {
   "cell_type": "code",
   "execution_count": 17,
   "metadata": {},
   "outputs": [],
   "source": [
    "heldout_exam_train = heldout_exam.loc[~heldout_exam['AnonymousStudentID'].isin(IDs)]\n",
    "heldout_exam_test = heldout_exam.loc[heldout_exam['AnonymousStudentID'].isin(IDs)]"
   ]
  },
  {
   "cell_type": "code",
   "execution_count": 18,
   "metadata": {},
   "outputs": [
    {
     "name": "stderr",
     "output_type": "stream",
     "text": [
      "/var/folders/1r/b1xnxlh94bj9wjtrptr85kf80000gn/T/ipykernel_92905/346631093.py:2: SettingWithCopyWarning: \n",
      "A value is trying to be set on a copy of a slice from a DataFrame\n",
      "\n",
      "See the caveats in the documentation: https://pandas.pydata.org/pandas-docs/stable/user_guide/indexing.html#returning-a-view-versus-a-copy\n",
      "  heldout_exam_train.drop(columns=['TestName'], inplace = True)\n",
      "/var/folders/1r/b1xnxlh94bj9wjtrptr85kf80000gn/T/ipykernel_92905/346631093.py:4: SettingWithCopyWarning: \n",
      "A value is trying to be set on a copy of a slice from a DataFrame\n",
      "\n",
      "See the caveats in the documentation: https://pandas.pydata.org/pandas-docs/stable/user_guide/indexing.html#returning-a-view-versus-a-copy\n",
      "  heldout_exam_train.drop(columns=['AnonymousStudentID'], inplace = True)\n"
     ]
    }
   ],
   "source": [
    "if 'TestName' in heldout_exam_train.columns:\n",
    "    heldout_exam_train.drop(columns=['TestName'], inplace = True)\n",
    "if 'AnonymousStudentID' in heldout_exam_train.columns:\n",
    "    heldout_exam_train.drop(columns=['AnonymousStudentID'], inplace = True)"
   ]
  },
  {
   "cell_type": "code",
   "execution_count": 19,
   "metadata": {},
   "outputs": [
    {
     "name": "stdout",
     "output_type": "stream",
     "text": [
      "(13963, 32)\n",
      "(6148, 30)\n",
      "(20111, 32)\n"
     ]
    }
   ],
   "source": [
    "print(heldout_exam_test.shape)\n",
    "print(heldout_exam_train.shape)\n",
    "print(heldout_exam.shape)"
   ]
  },
  {
   "cell_type": "markdown",
   "metadata": {},
   "source": [
    "##  Train on the heldout exam to gauge question difficulty"
   ]
  },
  {
   "cell_type": "code",
   "execution_count": 20,
   "metadata": {},
   "outputs": [],
   "source": [
    "heldout_ordinal_train = heldout_exam_train.astype('float')\n",
    "heldout_tensor = torch.tensor(heldout_ordinal_train.values)\n",
    "\n",
    "n_students, n_questions = heldout_tensor.shape[0], heldout_tensor.shape[1]\n",
    "max_score = int(heldout_tensor.max().numpy())\n",
    "\n",
    "def dataframe_to_triplets(ordinal_data):\n",
    "    \"\"\"\n",
    "    Converts dataframe (rows are questions; columns are students) to triplets in the form \n",
    "    [studentID, questionID, score] for each student-question pair \n",
    "    \"\"\"\n",
    "    n_students, n_questions = ordinal_data.shape[0], ordinal_data.shape[1]\n",
    "\n",
    "    ordinal_data = ordinal_data.reshape(-1)\n",
    "\n",
    "    student_id = torch.arange(1, n_students + 1)\n",
    "    student_id = student_id.repeat_interleave(n_questions)\n",
    "\n",
    "    question_id = torch.arange(1, n_questions + 1)\n",
    "    question_id = question_id.repeat(n_students)\n",
    "\n",
    "    data = torch.stack((student_id, question_id, ordinal_data), dim=1)\n",
    "    return data \n",
    "\n",
    "heldout_triplets = dataframe_to_triplets(heldout_tensor)"
   ]
  },
  {
   "cell_type": "code",
   "execution_count": 21,
   "metadata": {},
   "outputs": [],
   "source": [
    "heldout_dict = get_dictionary(meta_dict, test_names[-1])"
   ]
  },
  {
   "cell_type": "code",
   "execution_count": 22,
   "metadata": {},
   "outputs": [
    {
     "name": "stdout",
     "output_type": "stream",
     "text": [
      "0\n",
      "100\n",
      "200\n",
      "300\n",
      "400\n",
      "500\n",
      "600\n",
      "700\n",
      "800\n",
      "900\n",
      "1000\n",
      "1100\n",
      "1200\n",
      "1300\n",
      "1400\n",
      "1500\n",
      "1600\n",
      "1700\n",
      "1800\n",
      "1900\n",
      "2000\n",
      "2100\n",
      "2200\n",
      "2300\n",
      "2400\n",
      "2500\n",
      "2600\n",
      "2700\n",
      "2800\n",
      "2900\n",
      "3000\n",
      "3100\n",
      "3200\n",
      "3300\n",
      "3400\n",
      "3500\n",
      "3600\n",
      "3700\n",
      "3800\n",
      "3900\n"
     ]
    }
   ],
   "source": [
    "max_scores = functions_ordinal.generate_max_scores_tensor(heldout_triplets, heldout_dict)\n",
    "\n",
    "# initialization of parameters \n",
    "bs_heldout = torch.randn(n_students, requires_grad=True)\n",
    "bq0_heldout = torch.distributions.uniform.Uniform(0,1).sample([n_questions,])\n",
    "rho_heldout = torch.normal(0, 0.1, size = (n_questions, max_score - 1), requires_grad=True) # rho1, rho2, rho3 \n",
    "\n",
    "bq0_heldout.requires_grad = True  \n",
    "\n",
    "\n",
    "nlls_train_heldout  = []\n",
    "\n",
    "iterations = 4000\n",
    "params = [bs_heldout, bq0_heldout, rho_heldout]\n",
    "\n",
    "opt = optim.SGD(params, lr = 0.0001)\n",
    "\n",
    "for iter in range(iterations):\n",
    "    loss = functions_ordinal.nll(heldout_triplets, params, max_score, max_scores)    \n",
    "    opt.zero_grad()\n",
    "    loss.backward()\n",
    "    opt.step()\n",
    "    nlls_train_heldout.append(loss.detach().numpy())\n",
    "\n",
    "    if iter % 100 == 0:\n",
    "        print(iter)"
   ]
  },
  {
   "cell_type": "markdown",
   "metadata": {},
   "source": [
    "##  Prediction on heldout exam"
   ]
  },
  {
   "cell_type": "code",
   "execution_count": 23,
   "metadata": {},
   "outputs": [
    {
     "name": "stderr",
     "output_type": "stream",
     "text": [
      "/var/folders/1r/b1xnxlh94bj9wjtrptr85kf80000gn/T/ipykernel_92905/2433522683.py:2: SettingWithCopyWarning: \n",
      "A value is trying to be set on a copy of a slice from a DataFrame\n",
      "\n",
      "See the caveats in the documentation: https://pandas.pydata.org/pandas-docs/stable/user_guide/indexing.html#returning-a-view-versus-a-copy\n",
      "  heldout_exam_test.drop(columns=['TestName'], inplace = True)\n",
      "/var/folders/1r/b1xnxlh94bj9wjtrptr85kf80000gn/T/ipykernel_92905/2433522683.py:4: SettingWithCopyWarning: \n",
      "A value is trying to be set on a copy of a slice from a DataFrame\n",
      "\n",
      "See the caveats in the documentation: https://pandas.pydata.org/pandas-docs/stable/user_guide/indexing.html#returning-a-view-versus-a-copy\n",
      "  heldout_exam_test.drop(columns=['AnonymousStudentID'], inplace = True)\n"
     ]
    }
   ],
   "source": [
    "if 'TestName' in heldout_exam_test.columns:\n",
    "    heldout_exam_test.drop(columns=['TestName'], inplace = True)\n",
    "if 'AnonymousStudentID' in heldout_exam_test.columns:\n",
    "    heldout_exam_test.drop(columns=['AnonymousStudentID'], inplace = True)\n",
    "\n",
    "heldout_exam_test = heldout_exam_test.astype('float')\n",
    "heldout_exam_test_tensor = torch.tensor(heldout_exam_test.values)\n",
    "test_data_heldout_exam = dataframe_to_triplets(heldout_exam_test_tensor)"
   ]
  },
  {
   "cell_type": "code",
   "execution_count": 24,
   "metadata": {},
   "outputs": [
    {
     "data": {
      "image/png": "[encoded data removed]",
      "text/plain": [
       "<Figure size 720x360 with 3 Axes>"
      ]
     },
     "metadata": {
      "needs_background": "light"
     },
     "output_type": "display_data"
    },
    {
     "name": "stdout",
     "output_type": "stream",
     "text": [
      "Accuracy on the test data after training is 0.6854305\n"
     ]
    }
   ],
   "source": [
    "\n",
    "# TEST GRID PREDICTIONS \n",
    "# Get accuracies and predictions on the test data \n",
    "test_data_max_scores = functions_ordinal.generate_max_scores_tensor(test_data_heldout_exam, heldout_dict)\n",
    "prob_matrix = functions_ordinal.generate_prob_matrix(test_data_heldout_exam, bs, bq0_heldout, rho_heldout, max_score, test_data_max_scores)\n",
    "\n",
    "\n",
    "predicted_scores_thresholding = prob_matrix.argmax(axis = 1)\n",
    "predicted_scores = predicted_scores_thresholding\n",
    "\n",
    "\n",
    "true_scores = test_data_heldout_exam[:, 2]\n",
    "\n",
    "dim = 15 \n",
    "pred_mat = predicted_scores[10000:10000+dim*dim].reshape((dim,dim))\n",
    "true_mat = true_scores[10000:10000+dim*dim].reshape((dim,dim))\n",
    "\n",
    "_min, _max = 0, max_score\n",
    "fig, ax = plt.subplots(1,3)\n",
    "fig.set_figheight(5)\n",
    "fig.set_figwidth(10)\n",
    "\n",
    "ax[0].matshow(true_mat.detach().numpy(),cmap=plt.cm.YlGn,vmin = _min, vmax = _max)\n",
    "ax[0].set_title('True scores in the test set')\n",
    "\n",
    "\n",
    "ax[1].matshow(pred_mat.detach().numpy(),cmap=plt.cm.YlGn,vmin = _min, vmax = _max)\n",
    "ax[1].set_title('Predicted scores in the test set')\n",
    "\n",
    "\n",
    "\n",
    "diff_mat = torch.abs(pred_mat - true_mat)\n",
    "ax[2].matshow(diff_mat.detach().numpy(),cmap=plt.cm.YlGn,vmin = _min, vmax = _max)\n",
    "ax[2].set_title('Absolute error matrix')\n",
    "\n",
    "save_fig_location = os.path.join(os.getcwd(), 'figures', 'test_grid__2T_Summer2019.png')\n",
    "plt.savefig(save_fig_location)\n",
    "plt.show()\n",
    "\n",
    "print('Accuracy on the test data after training is', functions_ordinal.full_accuracy(true_scores, predicted_scores).numpy())\n"
   ]
  },
  {
   "cell_type": "markdown",
   "metadata": {},
   "source": [
    "### Overall prediction on the heldout exam \n"
   ]
  },
  {
   "cell_type": "code",
   "execution_count": 30,
   "metadata": {},
   "outputs": [
    {
     "name": "stdout",
     "output_type": "stream",
     "text": [
      "torch.Size([418890, 3])\n",
      "torch.Size([418890])\n",
      "torch.Size([6148])\n",
      "torch.Size([30])\n"
     ]
    }
   ],
   "source": [
    "print(test_data_heldout_exam.shape)\n",
    "print(test_data_heldout_exam_max_scores.shape)\n",
    "print(bs_heldout.shape)\n",
    "print(bq0_heldout.shape)"
   ]
  },
  {
   "cell_type": "code",
   "execution_count": 28,
   "metadata": {},
   "outputs": [
    {
     "ename": "IndexError",
     "evalue": "index out of range in self",
     "output_type": "error",
     "traceback": [
      "\u001b[0;31m---------------------------------------------------------------------------\u001b[0m",
      "\u001b[0;31mIndexError\u001b[0m                                Traceback (most recent call last)",
      "\u001b[1;32m/Users/anastasijailic/Library/Mobile Documents/com~apple~CloudDocs/Master/draft_heldout_exam.ipynb Cell 24'\u001b[0m in \u001b[0;36m<cell line: 3>\u001b[0;34m()\u001b[0m\n\u001b[1;32m      <a href='vscode-notebook-cell:/Users/anastasijailic/Library/Mobile%20Documents/com~apple~CloudDocs/Master/draft_heldout_exam.ipynb#ch0000020?line=0'>1</a>\u001b[0m test_data_heldout_exam_max_scores \u001b[39m=\u001b[39m functions_ordinal\u001b[39m.\u001b[39mgenerate_max_scores_tensor(test_data_heldout_exam, heldout_dict)\n\u001b[0;32m----> <a href='vscode-notebook-cell:/Users/anastasijailic/Library/Mobile%20Documents/com~apple~CloudDocs/Master/draft_heldout_exam.ipynb#ch0000020?line=2'>3</a>\u001b[0m prob_matrix \u001b[39m=\u001b[39m functions_ordinal\u001b[39m.\u001b[39;49mgenerate_prob_matrix(test_data_heldout_exam, bs_heldout, bq0_heldout, rho_heldout, max_score, test_data_heldout_exam_max_scores)\n\u001b[1;32m      <a href='vscode-notebook-cell:/Users/anastasijailic/Library/Mobile%20Documents/com~apple~CloudDocs/Master/draft_heldout_exam.ipynb#ch0000020?line=3'>4</a>\u001b[0m predicted_scores \u001b[39m=\u001b[39m prob_matrix\u001b[39m.\u001b[39margmax(axis \u001b[39m=\u001b[39m \u001b[39m1\u001b[39m)\n\u001b[1;32m      <a href='vscode-notebook-cell:/Users/anastasijailic/Library/Mobile%20Documents/com~apple~CloudDocs/Master/draft_heldout_exam.ipynb#ch0000020?line=4'>5</a>\u001b[0m true_scores \u001b[39m=\u001b[39m test_data_heldout_exam[:, \u001b[39m2\u001b[39m]\n",
      "File \u001b[0;32m~/Library/Mobile Documents/com~apple~CloudDocs/Master/functions_ordinal.py:238\u001b[0m, in \u001b[0;36mgenerate_prob_matrix\u001b[0;34m(data, bs_tensor, bq0_tensor, rho_tensor, max_score, tensor_max_scores)\u001b[0m\n\u001b[1;32m    <a href='file:///Users/anastasijailic/Library/Mobile%20Documents/com~apple~CloudDocs/Master/functions_ordinal.py?line=234'>235</a>\u001b[0m s_indices \u001b[39m=\u001b[39m (data[:, \u001b[39m0\u001b[39m] \u001b[39m-\u001b[39m \u001b[39m1\u001b[39m)\u001b[39m.\u001b[39mint() \u001b[39m# substract one because in the table indices of students and questions start with 1 \u001b[39;00m\n\u001b[1;32m    <a href='file:///Users/anastasijailic/Library/Mobile%20Documents/com~apple~CloudDocs/Master/functions_ordinal.py?line=235'>236</a>\u001b[0m q_indices \u001b[39m=\u001b[39m (data[:, \u001b[39m1\u001b[39m] \u001b[39m-\u001b[39m \u001b[39m1\u001b[39m)\u001b[39m.\u001b[39mint()\n\u001b[0;32m--> <a href='file:///Users/anastasijailic/Library/Mobile%20Documents/com~apple~CloudDocs/Master/functions_ordinal.py?line=237'>238</a>\u001b[0m bs_vector \u001b[39m=\u001b[39m torch\u001b[39m.\u001b[39;49mindex_select(bs_tensor, \u001b[39m0\u001b[39;49m, s_indices)\n\u001b[1;32m    <a href='file:///Users/anastasijailic/Library/Mobile%20Documents/com~apple~CloudDocs/Master/functions_ordinal.py?line=238'>239</a>\u001b[0m bq0_vector \u001b[39m=\u001b[39m torch\u001b[39m.\u001b[39mindex_select(bq0_tensor, \u001b[39m0\u001b[39m, q_indices)\n\u001b[1;32m    <a href='file:///Users/anastasijailic/Library/Mobile%20Documents/com~apple~CloudDocs/Master/functions_ordinal.py?line=239'>240</a>\u001b[0m rho_vector \u001b[39m=\u001b[39m torch\u001b[39m.\u001b[39mindex_select(rho_tensor, \u001b[39m0\u001b[39m, q_indices)\n",
      "\u001b[0;31mIndexError\u001b[0m: index out of range in self"
     ]
    }
   ],
   "source": [
    "test_data_heldout_exam_max_scores = functions_ordinal.generate_max_scores_tensor(test_data_heldout_exam, heldout_dict)\n",
    "\n",
    "prob_matrix = functions_ordinal.generate_prob_matrix(test_data_heldout_exam, bs_heldout, bq0_heldout, rho_heldout, max_score, test_data_heldout_exam_max_scores)\n",
    "predicted_scores = prob_matrix.argmax(axis = 1)\n",
    "true_scores = test_data_heldout_exam[:, 2]\n",
    "scores_matrix = torch.tensor(list(np.arange(0, max_score + 1, 1))).repeat(prob_matrix.shape[0], 1)\n",
    "expected_value_matrix = torch.mul(prob_matrix, scores_matrix) \n",
    "predicted_expected_value_scores = expected_value_matrix.sum(axis = 1)"
   ]
  },
  {
   "cell_type": "code",
   "execution_count": null,
   "metadata": {},
   "outputs": [],
   "source": []
  }
 ],
 "metadata": {
  "interpreter": {
   "hash": "aee8b7b246df8f9039afb4144a1f6fd8d2ca17a180786b69acc140d282b71a49"
  },
  "kernelspec": {
   "display_name": "Python 3.10.4 64-bit",
   "language": "python",
   "name": "python3"
  },
  "language_info": {
   "codemirror_mode": {
    "name": "ipython",
    "version": 3
   },
   "file_extension": ".py",
   "mimetype": "text/x-python",
   "name": "python",
   "nbconvert_exporter": "python",
   "pygments_lexer": "ipython3",
   "version": "3.10.4"
  },
  "orig_nbformat": 4
 },
 "nbformat": 4,
 "nbformat_minor": 2
}
